{
  "nbformat": 4,
  "nbformat_minor": 0,
  "metadata": {
    "anaconda-cloud": {},
    "kernelspec": {
      "display_name": "Python 3",
      "name": "python3"
    },
    "language_info": {
      "codemirror_mode": {
        "name": "ipython",
        "version": 3
      },
      "file_extension": ".py",
      "mimetype": "text/x-python",
      "name": "python",
      "nbconvert_exporter": "python",
      "pygments_lexer": "ipython3",
      "version": "3.6.6"
    },
    "colab": {
      "provenance": [],
      "include_colab_link": true
    }
  },
  "cells": [
    {
      "cell_type": "markdown",
      "metadata": {
        "id": "view-in-github",
        "colab_type": "text"
      },
      "source": [
        "<a href=\"https://colab.research.google.com/github/lydyang/AIT-Deep-Learning/blob/main/LydiaYang_04_AIT_MLP_CIFAR10_exercise.ipynb\" target=\"_parent\"><img src=\"https://colab.research.google.com/assets/colab-badge.svg\" alt=\"Open In Colab\"/></a>"
      ]
    },
    {
      "cell_type": "markdown",
      "metadata": {
        "id": "cW-EyI5Lxpqi"
      },
      "source": [
        "# Copyright\n",
        "\n",
        "<PRE>\n",
        "Copyright (c) 2024 Bálint Gyires-Tóth - All Rights Reserved\n",
        "You may use and modify this code for research and development purpuses.\n",
        "Using this code for educational purposes (self-paced or instructor led) without the permission of the author is prohibited.\n",
        "</PRE>"
      ]
    },
    {
      "cell_type": "markdown",
      "source": [
        "# Example of data exploration, modeling, regulartion and prediction\n",
        "Our exercise today involves loading a standard dataset using TensorFlow Keras API, exploring the data, building a simple neural network, and evaluating the effects of basic methods (activation functions, regularization, weight initialization, etc.). We then perform predictions on the test set and inspect the results."
      ],
      "metadata": {
        "id": "3EX4cCa4WKJu"
      }
    },
    {
      "cell_type": "markdown",
      "source": [
        "# 1. Data\n",
        "The dataset we will use is the well-known CIFAR10 (Canadian Institute For Advanced Research). Explore the details on the Keras website first: https://keras.io/api/datasets/cifar10/\n",
        "\n",
        "After you explored the basic features of the data, let's load it into the memory and explore the shapes:"
      ],
      "metadata": {
        "id": "yY9fztIeWIKt"
      }
    },
    {
      "cell_type": "code",
      "source": [
        "from tensorflow.keras.datasets import cifar10\n",
        "from tensorflow.keras.utils import to_categorical\n",
        "import numpy as np"
      ],
      "metadata": {
        "id": "giRZKTjzX_7l"
      },
      "execution_count": 10,
      "outputs": []
    },
    {
      "cell_type": "code",
      "source": [
        "(X_train, Y_train), (X_test, Y_test) = cifar10.load_data()"
      ],
      "metadata": {
        "id": "bez7q0eiWQCK"
      },
      "execution_count": 11,
      "outputs": []
    },
    {
      "cell_type": "code",
      "source": [
        "print(X_train.shape)\n",
        "print(X_test.shape)\n",
        "print(Y_train.shape)\n",
        "print(Y_test.shape)"
      ],
      "metadata": {
        "id": "2tJoRq5wXywi",
        "colab": {
          "base_uri": "https://localhost:8080/"
        },
        "outputId": "c98df4e3-ba26-4d64-d940-276fa4a1716d"
      },
      "execution_count": 12,
      "outputs": [
        {
          "output_type": "stream",
          "name": "stdout",
          "text": [
            "(50000, 32, 32, 3)\n",
            "(10000, 32, 32, 3)\n",
            "(50000, 1)\n",
            "(10000, 1)\n"
          ]
        }
      ]
    },
    {
      "cell_type": "markdown",
      "source": [
        "## 1.1. Exercise\n",
        "Display the first ten images of the training data. Hints:\n",
        "* Axis 0 refers to the separate images, e.g. X_train[0]\n",
        "* You can use the [Matplotlib Pyplot imshow function](https://matplotlib.org/stable/api/_as_gen/matplotlib.pyplot.imshow.html) for displaying the image. Just don't forget to import Plotly first!\n",
        "* A corresponding example, but you have to modify the code for your purpose: https://stackoverflow.com/questions/46615554/how-to-display-multiple-images-in-one-figure-correctly"
      ],
      "metadata": {
        "id": "zTCSGFyDlNvf"
      }
    },
    {
      "cell_type": "code",
      "source": [
        "import matplotlib.pyplot as plt\n",
        "import numpy as np\n",
        "\n",
        "class_names = [\"airplane\", \"automobile\", \"bird\", \"cat\", \"deer\", \"dog\", \"frog\", \"horse\", \"ship\", \"truck\"]\n",
        "\n",
        "plt.figure(figsize=(10, 10))\n",
        "for i in range(10):\n",
        "  plt.subplot(5, 5, i+1)\n",
        "  plt.xticks([])\n",
        "  plt.yticks([])\n",
        "  plt.grid(False)\n",
        "  plt.imshow(X_train[i], cmap=plt.cm.binary)\n",
        "  plt.xlabel(class_names[int(Y_train[i])])\n",
        "plt.show()"
      ],
      "metadata": {
        "id": "hIQhHTppmBdO",
        "colab": {
          "base_uri": "https://localhost:8080/",
          "height": 402
        },
        "outputId": "de4119ba-ed7e-4eac-a323-dbe3830777e9"
      },
      "execution_count": 13,
      "outputs": [
        {
          "output_type": "stream",
          "name": "stderr",
          "text": [
            "<ipython-input-13-11df8697e085>:13: DeprecationWarning: Conversion of an array with ndim > 0 to a scalar is deprecated, and will error in future. Ensure you extract a single element from your array before performing this operation. (Deprecated NumPy 1.25.)\n",
            "  plt.xlabel(class_names[int(Y_train[i])])\n"
          ]
        },
        {
          "output_type": "display_data",
          "data": {
            "text/plain": [
              "<Figure size 1000x1000 with 10 Axes>"
            ],
            "image/png": "[encoded data removed]"
          },
          "metadata": {}
        }
      ]
    },
    {
      "cell_type": "markdown",
      "source": [
        "Print the corresponding labels of the displayed images from the target variable (Y_train):"
      ],
      "metadata": {
        "id": "FAQkUWlmm-bc"
      }
    },
    {
      "cell_type": "code",
      "source": [
        "for i in range(10):\n",
        "  print(\"Image: \",i, \"label: \", int(Y_train[i]), class_names[int(Y_train[i])])"
      ],
      "metadata": {
        "id": "AkOrWzghnJ78",
        "colab": {
          "base_uri": "https://localhost:8080/"
        },
        "outputId": "57eb789a-96e5-415b-fa7b-041dbd288c48"
      },
      "execution_count": 14,
      "outputs": [
        {
          "output_type": "stream",
          "name": "stdout",
          "text": [
            "Image:  0 label:  6 frog\n",
            "Image:  1 label:  9 truck\n",
            "Image:  2 label:  9 truck\n",
            "Image:  3 label:  4 deer\n",
            "Image:  4 label:  1 automobile\n",
            "Image:  5 label:  1 automobile\n",
            "Image:  6 label:  2 bird\n",
            "Image:  7 label:  7 horse\n",
            "Image:  8 label:  8 ship\n",
            "Image:  9 label:  3 cat\n"
          ]
        },
        {
          "output_type": "stream",
          "name": "stderr",
          "text": [
            "<ipython-input-14-fdd68b47d9b7>:2: DeprecationWarning: Conversion of an array with ndim > 0 to a scalar is deprecated, and will error in future. Ensure you extract a single element from your array before performing this operation. (Deprecated NumPy 1.25.)\n",
            "  print(\"Image: \",i, \"label: \", int(Y_train[i]), class_names[int(Y_train[i])])\n"
          ]
        }
      ]
    },
    {
      "cell_type": "markdown",
      "source": [
        "## 1.2. Exercise\n",
        "We will train a Multi-Layer Perceptron (MLP), which requires a 2 dimensional input: 0th axis refers to the datapoints (i.e. images), the 1th dimens to the input. As images are 3 dimensional (width, height, color channels), you have to reshape the images into vectors. We also call this flattening.\n",
        "\n",
        "In order to do so, calculate the size of the equivalent 1D vector of the image:"
      ],
      "metadata": {
        "id": "VX24g5FstsRU"
      }
    },
    {
      "cell_type": "code",
      "source": [
        "flattened_dim = X_train.shape[1] * X_train.shape[2] * X_train.shape[3]\n",
        "print(flattened_dim)"
      ],
      "metadata": {
        "id": "hdoMyxHzuXZG",
        "colab": {
          "base_uri": "https://localhost:8080/"
        },
        "outputId": "f04d0de6-f181-4526-9320-24b567142c23"
      },
      "execution_count": 15,
      "outputs": [
        {
          "output_type": "stream",
          "name": "stdout",
          "text": [
            "3072\n"
          ]
        }
      ]
    },
    {
      "cell_type": "markdown",
      "source": [
        "After you calculated it, we can reshape the images, and covert the integer arrays into float arrays -- which are needed for the neural networks as input. Hint:\n",
        "* in the [reshape() function of Numpy](https://www.w3schools.com/python/numpy/numpy_array_reshape.asp) you can use -1 for one axis, to automatically calculate that value."
      ],
      "metadata": {
        "id": "WbqXJUSFubeC"
      }
    },
    {
      "cell_type": "code",
      "source": [
        "# reshape 3D tensors to 2D tensors\n",
        "X_train = X_train.reshape(-1, flattened_dim)\n",
        "X_test = X_test.reshape(-1, flattened_dim)\n",
        "# it is in int8 format, the neural network requires float32\n",
        "X_train = X_train.astype('float32')\n",
        "X_test = X_test.astype('float32')\n",
        "\n",
        "\n",
        "print(X_train)"
      ],
      "metadata": {
        "id": "vukOcBM0XzSj",
        "colab": {
          "base_uri": "https://localhost:8080/"
        },
        "outputId": "f6f94f3b-b399-4c11-a9a4-5c8dbc68dd2a"
      },
      "execution_count": 16,
      "outputs": [
        {
          "output_type": "stream",
          "name": "stdout",
          "text": [
            "[[ 59.  62.  63. ... 123.  92.  72.]\n",
            " [154. 177. 187. ... 143. 133. 144.]\n",
            " [255. 255. 255. ...  80.  86.  84.]\n",
            " ...\n",
            " [ 35. 178. 235. ...  12.  31.  50.]\n",
            " [189. 211. 240. ... 195. 190. 171.]\n",
            " [229. 229. 239. ... 163. 163. 161.]]\n"
          ]
        }
      ]
    },
    {
      "cell_type": "markdown",
      "source": [
        "## 1.3. Exercise\n",
        "As the next step, let's split the training data into training and validation data. 80% of the original training data should be the final training data, and 20% the validation.\n",
        "You should use Numpy indexing to select the first 80% of X_train as final X_train, and the last 20% as X_valid. Hints:\n",
        "* https://datascienceparichay.com/article/numpy-array-first-n-rows/\n",
        "* https://datascienceparichay.com/article/numpy-array-last-n-rows/"
      ],
      "metadata": {
        "id": "DO79AdIdvVfD"
      }
    },
    {
      "cell_type": "code",
      "source": [
        "train_ratio  = 0.8\n",
        "train_length = len(X_train) # length of the training data\n",
        "train_split  = int(train_length*train_ratio) # where to split the training and validation data\n",
        "X_valid, Y_valid = X_train[train_split:], Y_train[train_split:]\n",
        "print(len(X_valid), len(Y_valid))\n",
        "X_train, Y_train = X_train[:train_split], Y_train[:train_split]\n",
        "print(len(X_train), len(Y_train))"
      ],
      "metadata": {
        "id": "mRwuWxxIxLgN",
        "colab": {
          "base_uri": "https://localhost:8080/"
        },
        "outputId": "b0fc175c-4870-4b75-9487-1ed78be51541"
      },
      "execution_count": 17,
      "outputs": [
        {
          "output_type": "stream",
          "name": "stdout",
          "text": [
            "10000 10000\n",
            "40000 40000\n"
          ]
        }
      ]
    },
    {
      "cell_type": "markdown",
      "source": [
        "## 1.4. Exercise\n",
        "As the last step of input data preparation, the data should be standardized. Calculate the mean and variance of the training data (elementvise -- so for each value of the flattened image you should get a mean and variance for the training data along 0th axis). Hint:\n",
        "* https://stackoverflow.com/questions/70626231/how-to-calculate-mean-variance-standard-deviation-per-index-of-array"
      ],
      "metadata": {
        "id": "z05y_QWDxWER"
      }
    },
    {
      "cell_type": "code",
      "source": [
        "mean = np.mean(X_train, axis=0)\n",
        "std  = np.std(X_train, axis=0)"
      ],
      "metadata": {
        "id": "TSZbvWCBx8Ea",
        "colab": {
          "base_uri": "https://localhost:8080/"
        },
        "outputId": "2c130862-f53b-4d4e-f5fa-b61e4dcfc4aa"
      },
      "execution_count": 18,
      "outputs": [
        {
          "output_type": "stream",
          "name": "stdout",
          "text": [
            "[130.89912 136.1391  132.54753 ... 126.86372 126.03545 114.5743 ]\n",
            "[73.39984  72.94052  80.44044  ... 65.066635 62.781673 66.23674 ]\n",
            "[129.9572 135.7243 132.5789 ... 125.7405 125.1097 113.6121]\n",
            "[73.46     72.77168  80.481445 ... 64.35056  62.105484 65.42651 ]\n"
          ]
        }
      ]
    },
    {
      "cell_type": "markdown",
      "source": [
        "Next, use the resulting values to standardize the training, validation and test data by substracting the mean and dividing the result with the standard deviation."
      ],
      "metadata": {
        "id": "6WRHKkkjyN1S"
      }
    },
    {
      "cell_type": "code",
      "source": [
        "X_train = (X_train-mean)/std\n",
        "print(X_train)\n",
        "X_valid = (X_valid-mean)/std\n",
        "print(X_valid)\n",
        "X_test  = (X_test-mean)/std\n",
        "print(X_test)"
      ],
      "metadata": {
        "id": "2ESLP1EIyB2J",
        "colab": {
          "base_uri": "https://localhost:8080/"
        },
        "outputId": "0f05f6e2-a260-4b4a-e759-70ac0c78fb75"
      },
      "execution_count": 19,
      "outputs": [
        {
          "output_type": "stream",
          "name": "stdout",
          "text": [
            "[[-0.97955424 -1.0164323  -0.8645842  ... -0.05938103 -0.54212403\n",
            "  -0.6427596 ]\n",
            " [ 0.3147265   0.5601948   0.67692906 ...  0.24799617  0.11093279\n",
            "   0.44425038]\n",
            " [ 1.6907513   1.6295593   1.522275   ... -0.720242   -0.63769335\n",
            "  -0.4615913 ]\n",
            " ...\n",
            " [ 0.4918386   0.06664198 -0.28030095 ...  0.5246357   0.126861\n",
            "   0.23288733]\n",
            " [-1.1702904  -0.8244951  -0.06896446 ... -0.9968815  -1.1633245\n",
            "  -1.367433  ]\n",
            " [ 1.4182712   1.5884298   1.4849803  ...  0.5553734   0.6843485\n",
            "   0.8971712 ]]\n",
            "[[ 1.6907513   1.6295593   1.5098435  ...  1.8463576   1.9426775\n",
            "   2.014376  ]\n",
            " [-0.0531217   0.12148119  0.42829788 ... -0.68950427 -0.4146983\n",
            "  -0.03886518]\n",
            " [-0.20298578 -0.89304405 -1.3245518  ... -1.3657341  -1.7048837\n",
            "  -1.6542828 ]\n",
            " ...\n",
            " [-1.3065304   0.5739046   1.2736439  ... -1.7653245  -1.5137452\n",
            "  -0.97490156]\n",
            " [ 0.7915668   1.026328    1.3358016  ...  1.0471768   1.018841\n",
            "   0.8518791 ]\n",
            " [ 1.3365271   1.2731044   1.3233701  ...  0.5553734   0.5887793\n",
            "   0.7009055 ]]\n",
            "[[ 0.36922255 -0.33094224 -1.0386261  ... -1.6270047  -0.94032943\n",
            "  -0.0690599 ]\n",
            " [ 1.4182712   1.3553632   1.2736439  ...  0.90885717  1.1781232\n",
            "   1.2746053 ]\n",
            " [ 0.36922255  0.7384222   1.1120336  ... -1.8421688  -1.880094\n",
            "  -1.6240882 ]\n",
            " ...\n",
            " [-1.5108905  -1.660793   -1.4985937  ... -1.5655293  -1.6889555\n",
            "  -1.0201937 ]\n",
            " [-1.4427705  -1.3180479  -1.4985937  ... -0.5358157  -0.09613401\n",
            "  -0.52198076]\n",
            " [-0.7888181  -0.79707545 -0.7154055  ... -1.5347916  -1.5933862\n",
            "  -1.3372383 ]]\n"
          ]
        }
      ]
    },
    {
      "cell_type": "markdown",
      "source": [
        "## 1.5. Exercise\n",
        "And as the last step, convert the dense representation of the classes (i.e. 0,1,2,3...9) to one-hot encoding (0 = [1 0 0 0 0 0 0 0 0 0], 1 = [0 1 0 0 0 0 0 0 0 0] ... 9 = [0 0 0 0 0 0 0 0 0 1]). To do this, first, calculate the number of unique elements in the target training data. Hints:\n",
        "* use the [unique() function](https://numpy.org/doc/stable/reference/generated/numpy.unique.html) of Numpy to list the unique elements\n",
        "* you can count the number of elements in a list with the [len() function](https://www.w3schools.com/python/ref_func_len.asp)"
      ],
      "metadata": {
        "id": "ooHCnUin7r4o"
      }
    },
    {
      "cell_type": "code",
      "source": [
        "nb_classes = len(np.unique(Y_train))\n",
        "print(nb_classes)"
      ],
      "metadata": {
        "id": "i0LAO9cs8KEE",
        "colab": {
          "base_uri": "https://localhost:8080/"
        },
        "outputId": "67b79e88-5d87-4bfa-d15b-54305d623a32"
      },
      "execution_count": 20,
      "outputs": [
        {
          "output_type": "stream",
          "name": "stdout",
          "text": [
            "10\n"
          ]
        }
      ]
    },
    {
      "cell_type": "markdown",
      "source": [
        "Doublecheck, if the same number of classes exists in the validation and test target data:"
      ],
      "metadata": {
        "id": "BvM6XhGe8JU9"
      }
    },
    {
      "cell_type": "code",
      "source": [
        "print(\"Validation data has the same number of classes, as the training data:\", nb_classes == len(np.unique(Y_valid)))\n",
        "print(\"Test data has the same number of classes, as the training data:\", nb_classes == len(np.unique(Y_test)))"
      ],
      "metadata": {
        "id": "eZFNSsyx_Py2",
        "colab": {
          "base_uri": "https://localhost:8080/"
        },
        "outputId": "29adeed6-d359-4223-dd00-811f8e57220f"
      },
      "execution_count": 21,
      "outputs": [
        {
          "output_type": "stream",
          "name": "stdout",
          "text": [
            "Validation data has the same number of classes, as the training data: True\n",
            "Test data has the same number of classes, as the training data: True\n"
          ]
        }
      ]
    },
    {
      "cell_type": "markdown",
      "source": [
        "And convert the dense representation into one-hot encoding. Hint:\n",
        "* use the [to_categorical function](https://www.tensorflow.org/api_docs/python/tf/keras/utils/to_categorical) with the calculated nb_classes\n"
      ],
      "metadata": {
        "id": "mJM-iBmR8dLe"
      }
    },
    {
      "cell_type": "code",
      "source": [
        "import tensorflow as tf\n",
        "from tensorflow import keras\n",
        "Y_train = tf.keras.utils.to_categorical(Y_train, nb_classes)\n",
        "Y_valid = tf.keras.utils.to_categorical(Y_valid, nb_classes)\n",
        "Y_test  = tf.keras.utils.to_categorical(Y_test, nb_classes)"
      ],
      "metadata": {
        "id": "xwZ4OJ6I8lba"
      },
      "execution_count": 22,
      "outputs": []
    },
    {
      "cell_type": "markdown",
      "source": [
        "## Final check of data preparation\n",
        "Now, lets check the shapes and mean and standard deviation of the training, validation and test data."
      ],
      "metadata": {
        "id": "LshN2OSsv3TZ"
      }
    },
    {
      "cell_type": "code",
      "source": [
        "print(\"Shapes of the training, validation and test input data:\", X_train.shape, X_valid.shape, X_test.shape)\n",
        "print(\"Shapes of the training, validation and test output data:\", Y_train.shape, Y_valid.shape, Y_test.shape)\n",
        "print(\"Mean values of the training, validation and test input data:\", X_train.mean(), X_valid.mean(), X_test.mean())\n",
        "print(\"Standard deviation of the training, validation and test input data:\", X_train.std(), X_valid.std(), X_test.std())"
      ],
      "metadata": {
        "id": "O_jdJVcvX0vi",
        "colab": {
          "base_uri": "https://localhost:8080/"
        },
        "outputId": "e69f766c-9430-41c4-8be8-c7924487d074"
      },
      "execution_count": 23,
      "outputs": [
        {
          "output_type": "stream",
          "name": "stdout",
          "text": [
            "Shapes of the training, validation and test input data: (40000, 3072) (10000, 3072) (10000, 3072)\n",
            "Shapes of the training, validation and test output data: (40000, 10) (10000, 10) (10000, 10)\n",
            "Mean values of the training, validation and test input data: -2.4725992e-09 0.0023437182 0.013331188\n",
            "Standard deviation of the training, validation and test input data: 1.0000038 0.99656224 0.9978297\n"
          ]
        }
      ]
    },
    {
      "cell_type": "markdown",
      "source": [
        "Don't worry, if the mean and standard deviation of the validation and test data are not exactly 0 and 1, but these might be very mear to it (e.g. 0.01 mean, 0.99 variance)."
      ],
      "metadata": {
        "id": "5GtAOOoezmZY"
      }
    },
    {
      "cell_type": "markdown",
      "metadata": {
        "id": "cJ14oyZExpqj"
      },
      "source": [
        "# 2. Training"
      ]
    },
    {
      "cell_type": "markdown",
      "metadata": {
        "id": "s4ZXYRMBxpql"
      },
      "source": [
        "Let us begin with a simple example of creating a small neural network without regularization and training it with actual data. The purpose of this is to provide you with an example as to how to proceed with the next exercise."
      ]
    },
    {
      "cell_type": "code",
      "source": [
        "# imports\n",
        "import numpy as np\n",
        "import matplotlib.pyplot as plt\n",
        "from tensorflow.keras.models import Sequential\n",
        "from tensorflow.keras.layers import Dense, Embedding, Flatten, Dropout\n",
        "from tensorflow.keras.initializers import HeNormal\n",
        "from tensorflow.keras.callbacks import EarlyStopping"
      ],
      "metadata": {
        "id": "6-8Q6ll7ZDgq"
      },
      "execution_count": 24,
      "outputs": []
    },
    {
      "cell_type": "code",
      "source": [
        "# model definition\n",
        "model = Sequential()\n",
        "model.add(Dense(128, activation='tanh', input_shape=(flattened_dim,)))\n",
        "model.add(Dense(128, activation='tanh'))\n",
        "model.add(Dense(nb_classes, activation='softmax'))\n",
        "\n",
        "# loss function and optimizer\n",
        "model.compile(loss='categorical_crossentropy', optimizer='adam', metrics=['accuracy'])"
      ],
      "metadata": {
        "id": "pke6w3CD8DHp"
      },
      "execution_count": 25,
      "outputs": []
    },
    {
      "cell_type": "code",
      "metadata": {
        "id": "CZbOR76QxprC",
        "colab": {
          "base_uri": "https://localhost:8080/"
        },
        "outputId": "ea9c02ea-a268-40e0-9321-62271a65d3bb"
      },
      "source": [
        "# training\n",
        "network_history = model.fit(X_train, Y_train,\n",
        "                            validation_data=(X_valid,Y_valid),\n",
        "                            batch_size=128,\n",
        "                            epochs=40,\n",
        "                            verbose=1)"
      ],
      "execution_count": 26,
      "outputs": [
        {
          "output_type": "stream",
          "name": "stdout",
          "text": [
            "Epoch 1/40\n",
            "313/313 [==============================] - 4s 11ms/step - loss: 1.8207 - accuracy: 0.3635 - val_loss: 1.7669 - val_accuracy: 0.3847\n",
            "Epoch 2/40\n",
            "313/313 [==============================] - 3s 8ms/step - loss: 1.6909 - accuracy: 0.4141 - val_loss: 1.7184 - val_accuracy: 0.4055\n",
            "Epoch 3/40\n",
            "313/313 [==============================] - 3s 8ms/step - loss: 1.6388 - accuracy: 0.4309 - val_loss: 1.7067 - val_accuracy: 0.4145\n",
            "Epoch 4/40\n",
            "313/313 [==============================] - 3s 8ms/step - loss: 1.5948 - accuracy: 0.4439 - val_loss: 1.6753 - val_accuracy: 0.4227\n",
            "Epoch 5/40\n",
            "313/313 [==============================] - 3s 10ms/step - loss: 1.5587 - accuracy: 0.4615 - val_loss: 1.6802 - val_accuracy: 0.4204\n",
            "Epoch 6/40\n",
            "313/313 [==============================] - 3s 8ms/step - loss: 1.5331 - accuracy: 0.4696 - val_loss: 1.6540 - val_accuracy: 0.4260\n",
            "Epoch 7/40\n",
            "313/313 [==============================] - 3s 8ms/step - loss: 1.5006 - accuracy: 0.4817 - val_loss: 1.6509 - val_accuracy: 0.4309\n",
            "Epoch 8/40\n",
            "313/313 [==============================] - 3s 8ms/step - loss: 1.4741 - accuracy: 0.4884 - val_loss: 1.6523 - val_accuracy: 0.4346\n",
            "Epoch 9/40\n",
            "313/313 [==============================] - 3s 10ms/step - loss: 1.4499 - accuracy: 0.4963 - val_loss: 1.6406 - val_accuracy: 0.4342\n",
            "Epoch 10/40\n",
            "313/313 [==============================] - 3s 9ms/step - loss: 1.4288 - accuracy: 0.5036 - val_loss: 1.6296 - val_accuracy: 0.4421\n",
            "Epoch 11/40\n",
            "313/313 [==============================] - 3s 8ms/step - loss: 1.3963 - accuracy: 0.5193 - val_loss: 1.6319 - val_accuracy: 0.4392\n",
            "Epoch 12/40\n",
            "313/313 [==============================] - 3s 8ms/step - loss: 1.3813 - accuracy: 0.5201 - val_loss: 1.6407 - val_accuracy: 0.4381\n",
            "Epoch 13/40\n",
            "313/313 [==============================] - 3s 8ms/step - loss: 1.3511 - accuracy: 0.5332 - val_loss: 1.6256 - val_accuracy: 0.4431\n",
            "Epoch 14/40\n",
            "313/313 [==============================] - 3s 10ms/step - loss: 1.3340 - accuracy: 0.5350 - val_loss: 1.6222 - val_accuracy: 0.4464\n",
            "Epoch 15/40\n",
            "313/313 [==============================] - 3s 8ms/step - loss: 1.3205 - accuracy: 0.5413 - val_loss: 1.6284 - val_accuracy: 0.4447\n",
            "Epoch 16/40\n",
            "313/313 [==============================] - 3s 8ms/step - loss: 1.2966 - accuracy: 0.5513 - val_loss: 1.6103 - val_accuracy: 0.4529\n",
            "Epoch 17/40\n",
            "313/313 [==============================] - 2s 8ms/step - loss: 1.2749 - accuracy: 0.5584 - val_loss: 1.6252 - val_accuracy: 0.4512\n",
            "Epoch 18/40\n",
            "313/313 [==============================] - 3s 10ms/step - loss: 1.2547 - accuracy: 0.5643 - val_loss: 1.6238 - val_accuracy: 0.4481\n",
            "Epoch 19/40\n",
            "313/313 [==============================] - 3s 8ms/step - loss: 1.2333 - accuracy: 0.5727 - val_loss: 1.6316 - val_accuracy: 0.4456\n",
            "Epoch 20/40\n",
            "313/313 [==============================] - 2s 8ms/step - loss: 1.2170 - accuracy: 0.5809 - val_loss: 1.6365 - val_accuracy: 0.4501\n",
            "Epoch 21/40\n",
            "313/313 [==============================] - 3s 8ms/step - loss: 1.2013 - accuracy: 0.5833 - val_loss: 1.6446 - val_accuracy: 0.4486\n",
            "Epoch 22/40\n",
            "313/313 [==============================] - 3s 9ms/step - loss: 1.1784 - accuracy: 0.5918 - val_loss: 1.6439 - val_accuracy: 0.4482\n",
            "Epoch 23/40\n",
            "313/313 [==============================] - 3s 9ms/step - loss: 1.1606 - accuracy: 0.5951 - val_loss: 1.6584 - val_accuracy: 0.4449\n",
            "Epoch 24/40\n",
            "313/313 [==============================] - 3s 9ms/step - loss: 1.1509 - accuracy: 0.6004 - val_loss: 1.6632 - val_accuracy: 0.4476\n",
            "Epoch 25/40\n",
            "313/313 [==============================] - 3s 8ms/step - loss: 1.1258 - accuracy: 0.6109 - val_loss: 1.6862 - val_accuracy: 0.4449\n",
            "Epoch 26/40\n",
            "313/313 [==============================] - 3s 8ms/step - loss: 1.1087 - accuracy: 0.6171 - val_loss: 1.6591 - val_accuracy: 0.4537\n",
            "Epoch 27/40\n",
            "313/313 [==============================] - 3s 10ms/step - loss: 1.0879 - accuracy: 0.6246 - val_loss: 1.6833 - val_accuracy: 0.4525\n",
            "Epoch 28/40\n",
            "313/313 [==============================] - 3s 9ms/step - loss: 1.0782 - accuracy: 0.6263 - val_loss: 1.6964 - val_accuracy: 0.4441\n",
            "Epoch 29/40\n",
            "313/313 [==============================] - 3s 8ms/step - loss: 1.0700 - accuracy: 0.6279 - val_loss: 1.6966 - val_accuracy: 0.4520\n",
            "Epoch 30/40\n",
            "313/313 [==============================] - 3s 8ms/step - loss: 1.0492 - accuracy: 0.6368 - val_loss: 1.7136 - val_accuracy: 0.4464\n",
            "Epoch 31/40\n",
            "313/313 [==============================] - 3s 11ms/step - loss: 1.0242 - accuracy: 0.6459 - val_loss: 1.7134 - val_accuracy: 0.4472\n",
            "Epoch 32/40\n",
            "313/313 [==============================] - 3s 8ms/step - loss: 1.0092 - accuracy: 0.6518 - val_loss: 1.7283 - val_accuracy: 0.4486\n",
            "Epoch 33/40\n",
            "313/313 [==============================] - 3s 8ms/step - loss: 0.9918 - accuracy: 0.6583 - val_loss: 1.7467 - val_accuracy: 0.4424\n",
            "Epoch 34/40\n",
            "313/313 [==============================] - 3s 8ms/step - loss: 0.9837 - accuracy: 0.6608 - val_loss: 1.7612 - val_accuracy: 0.4454\n",
            "Epoch 35/40\n",
            "313/313 [==============================] - 3s 11ms/step - loss: 0.9615 - accuracy: 0.6703 - val_loss: 1.7708 - val_accuracy: 0.4419\n",
            "Epoch 36/40\n",
            "313/313 [==============================] - 3s 8ms/step - loss: 0.9481 - accuracy: 0.6752 - val_loss: 1.7670 - val_accuracy: 0.4488\n",
            "Epoch 37/40\n",
            "313/313 [==============================] - 3s 8ms/step - loss: 0.9381 - accuracy: 0.6755 - val_loss: 1.7948 - val_accuracy: 0.4407\n",
            "Epoch 38/40\n",
            "313/313 [==============================] - 3s 8ms/step - loss: 0.9181 - accuracy: 0.6839 - val_loss: 1.7988 - val_accuracy: 0.4472\n",
            "Epoch 39/40\n",
            "313/313 [==============================] - 3s 9ms/step - loss: 0.9013 - accuracy: 0.6898 - val_loss: 1.8290 - val_accuracy: 0.4359\n",
            "Epoch 40/40\n",
            "313/313 [==============================] - 3s 9ms/step - loss: 0.8923 - accuracy: 0.6916 - val_loss: 1.8241 - val_accuracy: 0.4445\n"
          ]
        }
      ]
    },
    {
      "cell_type": "markdown",
      "metadata": {
        "id": "uFqhzV85xprJ"
      },
      "source": [
        "Let's plot the training and validation loss and accuracy curves:"
      ]
    },
    {
      "cell_type": "code",
      "metadata": {
        "id": "BYmXGkLCxprK",
        "colab": {
          "base_uri": "https://localhost:8080/",
          "height": 902
        },
        "outputId": "840bb196-058b-4588-8cda-d64b38cfb7b2"
      },
      "source": [
        "def plot_history(network_history):\n",
        "    plt.figure()\n",
        "    plt.xlabel('Epochs')\n",
        "    plt.ylabel('Loss')\n",
        "    plt.plot(network_history.history['loss'])\n",
        "    plt.plot(network_history.history['val_loss'])\n",
        "    plt.legend(['Training', 'Validation'])\n",
        "\n",
        "    plt.figure()\n",
        "    plt.xlabel('Epochs')\n",
        "    plt.ylabel('Accuracy')\n",
        "    plt.plot(network_history.history['accuracy'])\n",
        "    plt.plot(network_history.history['val_accuracy'])\n",
        "    plt.legend(['Training', 'Validation'], loc='lower right')\n",
        "    plt.show()\n",
        "\n",
        "plot_history(network_history)"
      ],
      "execution_count": 27,
      "outputs": [
        {
          "output_type": "display_data",
          "data": {
            "text/plain": [
              "<Figure size 640x480 with 1 Axes>"
            ],
            "image/png": "[encoded data removed]"
          },
          "metadata": {}
        },
        {
          "output_type": "display_data",
          "data": {
            "text/plain": [
              "<Figure size 640x480 with 1 Axes>"
            ],
            "image/png": "[encoded data removed]"
          },
          "metadata": {}
        }
      ]
    },
    {
      "cell_type": "markdown",
      "source": [
        "What do you think? Does it overfit?"
      ],
      "metadata": {
        "id": "tgG7QeXF-dx6"
      }
    },
    {
      "cell_type": "markdown",
      "metadata": {
        "id": "_Q9rIeBBxprO"
      },
      "source": [
        "# Inspecting the model"
      ]
    },
    {
      "cell_type": "code",
      "metadata": {
        "id": "6r2AmmoMxprP",
        "colab": {
          "base_uri": "https://localhost:8080/"
        },
        "outputId": "d44a6870-b2f8-40e1-8d2f-47b2a5f236b9"
      },
      "source": [
        "model.summary()"
      ],
      "execution_count": 28,
      "outputs": [
        {
          "output_type": "stream",
          "name": "stdout",
          "text": [
            "Model: \"sequential\"\n",
            "_________________________________________________________________\n",
            " Layer (type)                Output Shape              Param #   \n",
            "=================================================================\n",
            " dense (Dense)               (None, 128)               393344    \n",
            "                                                                 \n",
            " dense_1 (Dense)             (None, 128)               16512     \n",
            "                                                                 \n",
            " dense_2 (Dense)             (None, 10)                1290      \n",
            "                                                                 \n",
            "=================================================================\n",
            "Total params: 411146 (1.57 MB)\n",
            "Trainable params: 411146 (1.57 MB)\n",
            "Non-trainable params: 0 (0.00 Byte)\n",
            "_________________________________________________________________\n"
          ]
        }
      ]
    },
    {
      "cell_type": "code",
      "metadata": {
        "id": "D3-bVDVuxprS",
        "colab": {
          "base_uri": "https://localhost:8080/"
        },
        "outputId": "1b5ff1fb-92a5-432d-913b-cbd7892c00fd"
      },
      "source": [
        "print('Input: ', model.input)"
      ],
      "execution_count": 29,
      "outputs": [
        {
          "output_type": "stream",
          "name": "stdout",
          "text": [
            "Input:  KerasTensor(type_spec=TensorSpec(shape=(None, 3072), dtype=tf.float32, name='dense_input'), name='dense_input', description=\"created by layer 'dense_input'\")\n"
          ]
        }
      ]
    },
    {
      "cell_type": "code",
      "metadata": {
        "id": "Da2OJ3DmxprX",
        "colab": {
          "base_uri": "https://localhost:8080/"
        },
        "outputId": "ec3b9d9c-18ba-40ac-e841-dff492c6627a"
      },
      "source": [
        "print('Layers:\\n')\n",
        "for layer in model.layers:\n",
        "    print(\"Layer's name: \", layer.name, ', trainable: ', layer.trainable)\n",
        "    print(layer.get_config(),'\\n')"
      ],
      "execution_count": 30,
      "outputs": [
        {
          "output_type": "stream",
          "name": "stdout",
          "text": [
            "Layers:\n",
            "\n",
            "Layer's name:  dense , trainable:  True\n",
            "{'name': 'dense', 'trainable': True, 'dtype': 'float32', 'batch_input_shape': (None, 3072), 'units': 128, 'activation': 'tanh', 'use_bias': True, 'kernel_initializer': {'module': 'keras.initializers', 'class_name': 'GlorotUniform', 'config': {'seed': None}, 'registered_name': None}, 'bias_initializer': {'module': 'keras.initializers', 'class_name': 'Zeros', 'config': {}, 'registered_name': None}, 'kernel_regularizer': None, 'bias_regularizer': None, 'activity_regularizer': None, 'kernel_constraint': None, 'bias_constraint': None} \n",
            "\n",
            "Layer's name:  dense_1 , trainable:  True\n",
            "{'name': 'dense_1', 'trainable': True, 'dtype': 'float32', 'units': 128, 'activation': 'tanh', 'use_bias': True, 'kernel_initializer': {'module': 'keras.initializers', 'class_name': 'GlorotUniform', 'config': {'seed': None}, 'registered_name': None}, 'bias_initializer': {'module': 'keras.initializers', 'class_name': 'Zeros', 'config': {}, 'registered_name': None}, 'kernel_regularizer': None, 'bias_regularizer': None, 'activity_regularizer': None, 'kernel_constraint': None, 'bias_constraint': None} \n",
            "\n",
            "Layer's name:  dense_2 , trainable:  True\n",
            "{'name': 'dense_2', 'trainable': True, 'dtype': 'float32', 'units': 10, 'activation': 'softmax', 'use_bias': True, 'kernel_initializer': {'module': 'keras.initializers', 'class_name': 'GlorotUniform', 'config': {'seed': None}, 'registered_name': None}, 'bias_initializer': {'module': 'keras.initializers', 'class_name': 'Zeros', 'config': {}, 'registered_name': None}, 'kernel_regularizer': None, 'bias_regularizer': None, 'activity_regularizer': None, 'kernel_constraint': None, 'bias_constraint': None} \n",
            "\n"
          ]
        }
      ]
    },
    {
      "cell_type": "code",
      "metadata": {
        "id": "AtVX3M3lxprc",
        "colab": {
          "base_uri": "https://localhost:8080/"
        },
        "outputId": "fa505845-b812-49be-c4dc-754641bf5de7"
      },
      "source": [
        "print('Output: ', model.output)"
      ],
      "execution_count": 31,
      "outputs": [
        {
          "output_type": "stream",
          "name": "stdout",
          "text": [
            "Output:  KerasTensor(type_spec=TensorSpec(shape=(None, 10), dtype=tf.float32, name=None), name='dense_2/Softmax:0', description=\"created by layer 'dense_2'\")\n"
          ]
        }
      ]
    },
    {
      "cell_type": "markdown",
      "source": [
        "## 2.1. Exercise\n",
        "Introduce [early stopping](https://www.tensorflow.org/api_docs/python/tf/keras/callbacks/EarlyStopping) and [dropout](https://www.tensorflow.org/api_docs/python/tf/keras/layers/Dropout) with a rate between 0.1..0.5. Tips:\n",
        "\n",
        "* Insert the dropout layer between the two Dense layers.\n",
        "* Set the patience of early stopping to 5.\n",
        "* Set the number of epochs to a very high number.\n",
        "* Don't forget to restore best weights after early stopping.\n",
        "* And also set early stopping to monitor validation accuracy (the default value is validation loss -- which is categorical crossentropy now).\n",
        "\n",
        "Compile and train the model. Attempt to increase the validation accuracy as much as possible by making changes to the dropout rate. Inspect the effects of the modifications."
      ],
      "metadata": {
        "id": "E-hHfs9qA_iO"
      }
    },
    {
      "cell_type": "code",
      "source": [
        "es = keras.callbacks.EarlyStopping(\n",
        "    monitor = 'val_accuracy',\n",
        "    patience = 5,\n",
        "    min_delta = 0.001,\n",
        "    restore_best_weights = True\n",
        ")"
      ],
      "metadata": {
        "id": "NwXrPzOgEBG-"
      },
      "execution_count": 32,
      "outputs": []
    },
    {
      "cell_type": "code",
      "source": [
        "# model definition with dropout\n",
        "model = Sequential()\n",
        "model.add(Dense(128, activation='tanh', input_shape=(flattened_dim,)))\n",
        "model.add(Dropout(0.1, input_shape = (flattened_dim,)))\n",
        "model.add(Dense(128, activation='tanh'))\n",
        "model.add(Dense(nb_classes, activation='softmax'))\n",
        "\n",
        "# loss function and optimizer\n",
        "model.compile(loss='categorical_crossentropy', optimizer='adam', metrics=['accuracy'])"
      ],
      "metadata": {
        "id": "7hZEGzj8GFwP"
      },
      "execution_count": 33,
      "outputs": []
    },
    {
      "cell_type": "code",
      "source": [
        "# training with early stopping\n",
        "network_history = model.fit(X_train, Y_train,\n",
        "                            validation_data=(X_valid,Y_valid),\n",
        "                            batch_size=128,\n",
        "                            epochs=50,\n",
        "                            verbose=1,\n",
        "                            callbacks=[es])"
      ],
      "metadata": {
        "id": "GCG54R-vGGWj",
        "colab": {
          "base_uri": "https://localhost:8080/"
        },
        "outputId": "ef7ba4da-88cc-4dc8-8825-9d4babe1d12a"
      },
      "execution_count": 34,
      "outputs": [
        {
          "output_type": "stream",
          "name": "stdout",
          "text": [
            "Epoch 1/50\n",
            "313/313 [==============================] - 4s 9ms/step - loss: 1.8359 - accuracy: 0.3555 - val_loss: 1.7533 - val_accuracy: 0.3970\n",
            "Epoch 2/50\n",
            "313/313 [==============================] - 3s 10ms/step - loss: 1.7150 - accuracy: 0.4011 - val_loss: 1.7281 - val_accuracy: 0.3974\n",
            "Epoch 3/50\n",
            "313/313 [==============================] - 4s 14ms/step - loss: 1.6674 - accuracy: 0.4198 - val_loss: 1.7067 - val_accuracy: 0.4106\n",
            "Epoch 4/50\n",
            "313/313 [==============================] - 4s 12ms/step - loss: 1.6339 - accuracy: 0.4325 - val_loss: 1.6828 - val_accuracy: 0.4214\n",
            "Epoch 5/50\n",
            "313/313 [==============================] - 3s 9ms/step - loss: 1.5995 - accuracy: 0.4469 - val_loss: 1.6668 - val_accuracy: 0.4252\n",
            "Epoch 6/50\n",
            "313/313 [==============================] - 3s 8ms/step - loss: 1.5754 - accuracy: 0.4556 - val_loss: 1.6494 - val_accuracy: 0.4318\n",
            "Epoch 7/50\n",
            "313/313 [==============================] - 3s 11ms/step - loss: 1.5499 - accuracy: 0.4643 - val_loss: 1.6458 - val_accuracy: 0.4327\n",
            "Epoch 8/50\n",
            "313/313 [==============================] - 3s 8ms/step - loss: 1.5279 - accuracy: 0.4708 - val_loss: 1.6278 - val_accuracy: 0.4388\n",
            "Epoch 9/50\n",
            "313/313 [==============================] - 3s 8ms/step - loss: 1.5144 - accuracy: 0.4769 - val_loss: 1.6238 - val_accuracy: 0.4371\n",
            "Epoch 10/50\n",
            "313/313 [==============================] - 3s 8ms/step - loss: 1.4923 - accuracy: 0.4821 - val_loss: 1.6194 - val_accuracy: 0.4423\n",
            "Epoch 11/50\n",
            "313/313 [==============================] - 3s 11ms/step - loss: 1.4764 - accuracy: 0.4893 - val_loss: 1.6065 - val_accuracy: 0.4473\n",
            "Epoch 12/50\n",
            "313/313 [==============================] - 3s 9ms/step - loss: 1.4493 - accuracy: 0.4948 - val_loss: 1.6012 - val_accuracy: 0.4493\n",
            "Epoch 13/50\n",
            "313/313 [==============================] - 3s 9ms/step - loss: 1.4340 - accuracy: 0.5006 - val_loss: 1.5905 - val_accuracy: 0.4496\n",
            "Epoch 14/50\n",
            "313/313 [==============================] - 3s 8ms/step - loss: 1.4207 - accuracy: 0.5069 - val_loss: 1.6013 - val_accuracy: 0.4448\n",
            "Epoch 15/50\n",
            "313/313 [==============================] - 3s 10ms/step - loss: 1.4088 - accuracy: 0.5091 - val_loss: 1.5842 - val_accuracy: 0.4464\n",
            "Epoch 16/50\n",
            "313/313 [==============================] - 3s 9ms/step - loss: 1.3903 - accuracy: 0.5163 - val_loss: 1.5826 - val_accuracy: 0.4471\n",
            "Epoch 17/50\n",
            "313/313 [==============================] - 3s 9ms/step - loss: 1.3784 - accuracy: 0.5205 - val_loss: 1.5944 - val_accuracy: 0.4494\n"
          ]
        }
      ]
    },
    {
      "cell_type": "markdown",
      "source": [
        "## 2.2 Exercise\n",
        "Change the [activation function of the dense layers (except the last one)](https://www.tensorflow.org/api_docs/python/tf/keras/layers/Dense) to rectified linear unit (ReLU) and the [weight initialization](https://www.tensorflow.org/api_docs/python/tf/keras/initializers) to the theoretically best one. Use the original model's code.\n",
        "\n",
        "Compile and train the model. Inspect the effects of the modifications."
      ],
      "metadata": {
        "id": "zQCDM1o1BBtF"
      }
    },
    {
      "cell_type": "code",
      "source": [
        "# model definition with relu\n",
        "model = Sequential()\n",
        "model.add(Dense(128, activation='ReLU', kernel_initializer=tf.keras.initializers.GlorotNormal(), input_shape=(flattened_dim,)))\n",
        "model.add(Dense(128, activation='ReLU', kernel_initializer=tf.keras.initializers.GlorotNormal()))\n",
        "model.add(Dense(nb_classes, activation='softmax'))\n",
        "\n",
        "# loss function and optimizer\n",
        "model.compile(loss='categorical_crossentropy', optimizer='adam', metrics=['accuracy'])"
      ],
      "metadata": {
        "id": "YjHAAh-wGu9O"
      },
      "execution_count": 35,
      "outputs": []
    },
    {
      "cell_type": "code",
      "source": [
        "# training\n",
        "network_history = model.fit(X_train, Y_train,\n",
        "                            validation_data=(X_valid,Y_valid),\n",
        "                            batch_size=128,\n",
        "                            epochs=40,\n",
        "                            verbose=1)"
      ],
      "metadata": {
        "id": "rarwKM1wGxMz",
        "colab": {
          "base_uri": "https://localhost:8080/"
        },
        "outputId": "8d6e7bf5-9dfd-47df-b783-dc0738793b3d"
      },
      "execution_count": 36,
      "outputs": [
        {
          "output_type": "stream",
          "name": "stdout",
          "text": [
            "Epoch 1/40\n",
            "313/313 [==============================] - 4s 10ms/step - loss: 1.7596 - accuracy: 0.3920 - val_loss: 1.6272 - val_accuracy: 0.4276\n",
            "Epoch 2/40\n",
            "313/313 [==============================] - 3s 9ms/step - loss: 1.5091 - accuracy: 0.4701 - val_loss: 1.5346 - val_accuracy: 0.4605\n",
            "Epoch 3/40\n",
            "313/313 [==============================] - 3s 8ms/step - loss: 1.3968 - accuracy: 0.5076 - val_loss: 1.5123 - val_accuracy: 0.4754\n",
            "Epoch 4/40\n",
            "313/313 [==============================] - 3s 8ms/step - loss: 1.3160 - accuracy: 0.5383 - val_loss: 1.5238 - val_accuracy: 0.4772\n",
            "Epoch 5/40\n",
            "313/313 [==============================] - 2s 8ms/step - loss: 1.2431 - accuracy: 0.5617 - val_loss: 1.4728 - val_accuracy: 0.4921\n",
            "Epoch 6/40\n",
            "313/313 [==============================] - 3s 10ms/step - loss: 1.1821 - accuracy: 0.5865 - val_loss: 1.5042 - val_accuracy: 0.4912\n",
            "Epoch 7/40\n",
            "313/313 [==============================] - 3s 8ms/step - loss: 1.1376 - accuracy: 0.6019 - val_loss: 1.4888 - val_accuracy: 0.5066\n",
            "Epoch 8/40\n",
            "313/313 [==============================] - 3s 9ms/step - loss: 1.0775 - accuracy: 0.6211 - val_loss: 1.4905 - val_accuracy: 0.5051\n",
            "Epoch 9/40\n",
            "313/313 [==============================] - 3s 9ms/step - loss: 1.0387 - accuracy: 0.6338 - val_loss: 1.5314 - val_accuracy: 0.4987\n",
            "Epoch 10/40\n",
            "313/313 [==============================] - 3s 10ms/step - loss: 0.9909 - accuracy: 0.6517 - val_loss: 1.5456 - val_accuracy: 0.5023\n",
            "Epoch 11/40\n",
            "313/313 [==============================] - 3s 9ms/step - loss: 0.9455 - accuracy: 0.6662 - val_loss: 1.5599 - val_accuracy: 0.5059\n",
            "Epoch 12/40\n",
            "313/313 [==============================] - 3s 8ms/step - loss: 0.9091 - accuracy: 0.6807 - val_loss: 1.5988 - val_accuracy: 0.5053\n",
            "Epoch 13/40\n",
            "313/313 [==============================] - 3s 8ms/step - loss: 0.8685 - accuracy: 0.6964 - val_loss: 1.6650 - val_accuracy: 0.4976\n",
            "Epoch 14/40\n",
            "313/313 [==============================] - 3s 10ms/step - loss: 0.8287 - accuracy: 0.7104 - val_loss: 1.6787 - val_accuracy: 0.4901\n",
            "Epoch 15/40\n",
            "313/313 [==============================] - 3s 9ms/step - loss: 0.7982 - accuracy: 0.7193 - val_loss: 1.7093 - val_accuracy: 0.5020\n",
            "Epoch 16/40\n",
            "313/313 [==============================] - 3s 8ms/step - loss: 0.7671 - accuracy: 0.7290 - val_loss: 1.7347 - val_accuracy: 0.4977\n",
            "Epoch 17/40\n",
            "313/313 [==============================] - 3s 9ms/step - loss: 0.7330 - accuracy: 0.7426 - val_loss: 1.7810 - val_accuracy: 0.4988\n",
            "Epoch 18/40\n",
            "313/313 [==============================] - 3s 10ms/step - loss: 0.6897 - accuracy: 0.7590 - val_loss: 1.8750 - val_accuracy: 0.4991\n",
            "Epoch 19/40\n",
            "313/313 [==============================] - 3s 9ms/step - loss: 0.6759 - accuracy: 0.7640 - val_loss: 1.9197 - val_accuracy: 0.4912\n",
            "Epoch 20/40\n",
            "313/313 [==============================] - 3s 8ms/step - loss: 0.6430 - accuracy: 0.7733 - val_loss: 1.9384 - val_accuracy: 0.4948\n",
            "Epoch 21/40\n",
            "313/313 [==============================] - 3s 8ms/step - loss: 0.6136 - accuracy: 0.7840 - val_loss: 2.0299 - val_accuracy: 0.4944\n",
            "Epoch 22/40\n",
            "313/313 [==============================] - 3s 8ms/step - loss: 0.5843 - accuracy: 0.7950 - val_loss: 2.0601 - val_accuracy: 0.4886\n",
            "Epoch 23/40\n",
            "313/313 [==============================] - 3s 10ms/step - loss: 0.5669 - accuracy: 0.8021 - val_loss: 2.1363 - val_accuracy: 0.4821\n",
            "Epoch 24/40\n",
            "313/313 [==============================] - 3s 8ms/step - loss: 0.5488 - accuracy: 0.8072 - val_loss: 2.1449 - val_accuracy: 0.4978\n",
            "Epoch 25/40\n",
            "313/313 [==============================] - 3s 8ms/step - loss: 0.5207 - accuracy: 0.8184 - val_loss: 2.2264 - val_accuracy: 0.4902\n",
            "Epoch 26/40\n",
            "313/313 [==============================] - 3s 8ms/step - loss: 0.5006 - accuracy: 0.8228 - val_loss: 2.2839 - val_accuracy: 0.4904\n",
            "Epoch 27/40\n",
            "313/313 [==============================] - 3s 10ms/step - loss: 0.4813 - accuracy: 0.8298 - val_loss: 2.3611 - val_accuracy: 0.4897\n",
            "Epoch 28/40\n",
            "313/313 [==============================] - 3s 8ms/step - loss: 0.4747 - accuracy: 0.8332 - val_loss: 2.3739 - val_accuracy: 0.4903\n",
            "Epoch 29/40\n",
            "313/313 [==============================] - 3s 8ms/step - loss: 0.4343 - accuracy: 0.8471 - val_loss: 2.4743 - val_accuracy: 0.4938\n",
            "Epoch 30/40\n",
            "313/313 [==============================] - 3s 8ms/step - loss: 0.4257 - accuracy: 0.8504 - val_loss: 2.5626 - val_accuracy: 0.4878\n",
            "Epoch 31/40\n",
            "313/313 [==============================] - 3s 9ms/step - loss: 0.4151 - accuracy: 0.8544 - val_loss: 2.6218 - val_accuracy: 0.4843\n",
            "Epoch 32/40\n",
            "313/313 [==============================] - 3s 9ms/step - loss: 0.4047 - accuracy: 0.8601 - val_loss: 2.6705 - val_accuracy: 0.4828\n",
            "Epoch 33/40\n",
            "313/313 [==============================] - 3s 9ms/step - loss: 0.3944 - accuracy: 0.8622 - val_loss: 2.7428 - val_accuracy: 0.4784\n",
            "Epoch 34/40\n",
            "313/313 [==============================] - 3s 9ms/step - loss: 0.3658 - accuracy: 0.8716 - val_loss: 2.8029 - val_accuracy: 0.4862\n",
            "Epoch 35/40\n",
            "313/313 [==============================] - 3s 9ms/step - loss: 0.3673 - accuracy: 0.8713 - val_loss: 2.8769 - val_accuracy: 0.4784\n",
            "Epoch 36/40\n",
            "313/313 [==============================] - 3s 9ms/step - loss: 0.3408 - accuracy: 0.8810 - val_loss: 2.8753 - val_accuracy: 0.4814\n",
            "Epoch 37/40\n",
            "313/313 [==============================] - 3s 8ms/step - loss: 0.3311 - accuracy: 0.8840 - val_loss: 3.0366 - val_accuracy: 0.4874\n",
            "Epoch 38/40\n",
            "313/313 [==============================] - 3s 8ms/step - loss: 0.3245 - accuracy: 0.8848 - val_loss: 3.0447 - val_accuracy: 0.4857\n",
            "Epoch 39/40\n",
            "313/313 [==============================] - 3s 9ms/step - loss: 0.3121 - accuracy: 0.8906 - val_loss: 3.0856 - val_accuracy: 0.4831\n",
            "Epoch 40/40\n",
            "313/313 [==============================] - 3s 10ms/step - loss: 0.3101 - accuracy: 0.8925 - val_loss: 3.2020 - val_accuracy: 0.4894\n"
          ]
        }
      ]
    },
    {
      "cell_type": "markdown",
      "source": [
        "# 2.3. Exercise\n",
        "Based on the modifications above, and by any further modifications (e.g. more layers, less layers, more neurons/layer, etc.) to the model design, find a combination that is able to achieve **validation accuracy, that is higher than 53%**.\n"
      ],
      "metadata": {
        "id": "j1tGVPdD-pp3"
      }
    },
    {
      "cell_type": "code",
      "source": [
        "es = keras.callbacks.EarlyStopping(\n",
        "    monitor = 'val_accuracy',\n",
        "    patience = 5,\n",
        "    min_delta = 0.001,\n",
        "    restore_best_weights = True\n",
        ")"
      ],
      "metadata": {
        "id": "5dBQxJHIHrbd"
      },
      "execution_count": 59,
      "outputs": []
    },
    {
      "cell_type": "code",
      "source": [
        "# model definition\n",
        "model = Sequential()\n",
        "model.add(Dense(128, activation='ReLU', kernel_initializer=tf.keras.initializers.LecunUniform(), input_shape=(flattened_dim,)))\n",
        "model.add(Dropout(0.2, input_shape = (flattened_dim,)))\n",
        "model.add(Dense(128, activation='ReLU', kernel_initializer=tf.keras.initializers.LecunUniform()))\n",
        "model.add(Dense(nb_classes, activation='softmax'))\n",
        "\n",
        "# loss function and optimizer\n",
        "model.compile(loss='categorical_crossentropy', optimizer='adam', metrics=['accuracy'])"
      ],
      "metadata": {
        "id": "PuxHOqLt-3Nd"
      },
      "execution_count": 74,
      "outputs": []
    },
    {
      "cell_type": "code",
      "source": [
        "# training\n",
        "network_history = model.fit(X_train, Y_train,\n",
        "                            validation_data=(X_valid,Y_valid),\n",
        "                            batch_size=128,\n",
        "                            epochs=40,\n",
        "                            verbose=1,\n",
        "                            callbacks=[es])"
      ],
      "metadata": {
        "id": "u8tFNCNVHyt9",
        "colab": {
          "base_uri": "https://localhost:8080/"
        },
        "outputId": "ac53f159-e6ae-415b-daa9-34d18660c6b4"
      },
      "execution_count": 75,
      "outputs": [
        {
          "output_type": "stream",
          "name": "stdout",
          "text": [
            "Epoch 1/40\n",
            "313/313 [==============================] - 4s 11ms/step - loss: 1.8531 - accuracy: 0.3548 - val_loss: 1.6460 - val_accuracy: 0.4133\n",
            "Epoch 2/40\n",
            "313/313 [==============================] - 3s 8ms/step - loss: 1.6260 - accuracy: 0.4260 - val_loss: 1.5510 - val_accuracy: 0.4482\n",
            "Epoch 3/40\n",
            "313/313 [==============================] - 3s 8ms/step - loss: 1.5440 - accuracy: 0.4577 - val_loss: 1.5126 - val_accuracy: 0.4658\n",
            "Epoch 4/40\n",
            "313/313 [==============================] - 3s 8ms/step - loss: 1.4764 - accuracy: 0.4794 - val_loss: 1.4793 - val_accuracy: 0.4817\n",
            "Epoch 5/40\n",
            "313/313 [==============================] - 3s 10ms/step - loss: 1.4313 - accuracy: 0.4955 - val_loss: 1.4633 - val_accuracy: 0.4851\n",
            "Epoch 6/40\n",
            "313/313 [==============================] - 3s 9ms/step - loss: 1.3998 - accuracy: 0.5074 - val_loss: 1.4496 - val_accuracy: 0.4932\n",
            "Epoch 7/40\n",
            "313/313 [==============================] - 3s 8ms/step - loss: 1.3595 - accuracy: 0.5215 - val_loss: 1.4127 - val_accuracy: 0.5045\n",
            "Epoch 8/40\n",
            "313/313 [==============================] - 3s 9ms/step - loss: 1.3306 - accuracy: 0.5302 - val_loss: 1.4146 - val_accuracy: 0.5102\n",
            "Epoch 9/40\n",
            "313/313 [==============================] - 3s 10ms/step - loss: 1.3093 - accuracy: 0.5368 - val_loss: 1.4020 - val_accuracy: 0.5088\n",
            "Epoch 10/40\n",
            "313/313 [==============================] - 3s 9ms/step - loss: 1.2891 - accuracy: 0.5455 - val_loss: 1.3932 - val_accuracy: 0.5131\n",
            "Epoch 11/40\n",
            "313/313 [==============================] - 3s 9ms/step - loss: 1.2658 - accuracy: 0.5521 - val_loss: 1.3862 - val_accuracy: 0.5154\n",
            "Epoch 12/40\n",
            "313/313 [==============================] - 3s 9ms/step - loss: 1.2453 - accuracy: 0.5591 - val_loss: 1.3720 - val_accuracy: 0.5190\n",
            "Epoch 13/40\n",
            "313/313 [==============================] - 3s 10ms/step - loss: 1.2167 - accuracy: 0.5705 - val_loss: 1.3737 - val_accuracy: 0.5205\n",
            "Epoch 14/40\n",
            "313/313 [==============================] - 3s 9ms/step - loss: 1.2096 - accuracy: 0.5729 - val_loss: 1.3897 - val_accuracy: 0.5148\n",
            "Epoch 15/40\n",
            "313/313 [==============================] - 3s 9ms/step - loss: 1.1967 - accuracy: 0.5751 - val_loss: 1.4017 - val_accuracy: 0.5146\n",
            "Epoch 16/40\n",
            "313/313 [==============================] - 3s 8ms/step - loss: 1.1751 - accuracy: 0.5834 - val_loss: 1.3909 - val_accuracy: 0.5181\n",
            "Epoch 17/40\n",
            "313/313 [==============================] - 3s 10ms/step - loss: 1.1666 - accuracy: 0.5861 - val_loss: 1.3843 - val_accuracy: 0.5142\n",
            "Epoch 18/40\n",
            "313/313 [==============================] - 3s 9ms/step - loss: 1.1462 - accuracy: 0.5914 - val_loss: 1.3654 - val_accuracy: 0.5241\n",
            "Epoch 19/40\n",
            "313/313 [==============================] - 3s 9ms/step - loss: 1.1372 - accuracy: 0.5975 - val_loss: 1.3746 - val_accuracy: 0.5224\n",
            "Epoch 20/40\n",
            "313/313 [==============================] - 3s 9ms/step - loss: 1.1200 - accuracy: 0.6050 - val_loss: 1.3675 - val_accuracy: 0.5260\n",
            "Epoch 21/40\n",
            "313/313 [==============================] - 4s 12ms/step - loss: 1.1051 - accuracy: 0.6058 - val_loss: 1.3849 - val_accuracy: 0.5213\n",
            "Epoch 22/40\n",
            "313/313 [==============================] - 3s 9ms/step - loss: 1.0916 - accuracy: 0.6118 - val_loss: 1.3748 - val_accuracy: 0.5250\n",
            "Epoch 23/40\n",
            "313/313 [==============================] - 3s 9ms/step - loss: 1.0852 - accuracy: 0.6130 - val_loss: 1.3881 - val_accuracy: 0.5206\n",
            "Epoch 24/40\n",
            "313/313 [==============================] - 3s 9ms/step - loss: 1.0665 - accuracy: 0.6207 - val_loss: 1.3901 - val_accuracy: 0.5236\n",
            "Epoch 25/40\n",
            "313/313 [==============================] - 3s 11ms/step - loss: 1.0624 - accuracy: 0.6222 - val_loss: 1.3840 - val_accuracy: 0.5222\n"
          ]
        }
      ]
    },
    {
      "cell_type": "markdown",
      "source": [
        "# 3. Evaluation on test data and inference\n",
        "At this point, we will perform a basic evaluation and inference. With the model.evaluate function, the same metrics are calculated, that were used during training:"
      ],
      "metadata": {
        "id": "2FtKp-a2-A9m"
      }
    },
    {
      "cell_type": "code",
      "source": [
        "print(model.evaluate(X_test, Y_test))"
      ],
      "metadata": {
        "id": "I3_9wgDREUna",
        "colab": {
          "base_uri": "https://localhost:8080/"
        },
        "outputId": "d7662922-0e8f-4820-8959-608cf896cf7e"
      },
      "execution_count": 76,
      "outputs": [
        {
          "output_type": "stream",
          "name": "stdout",
          "text": [
            "313/313 [==============================] - 0s 2ms/step - loss: 1.3571 - accuracy: 0.5304\n",
            "[1.357114315032959, 0.5303999781608582]\n"
          ]
        }
      ]
    },
    {
      "cell_type": "markdown",
      "source": [
        "we would like to see similar values, as in the validation set. If those are close to each other, then the generalization ability of the model is good (in case of an independent test-set)."
      ],
      "metadata": {
        "id": "ECHguBFtGL7f"
      }
    },
    {
      "cell_type": "markdown",
      "source": [
        "## 3.1. Exercise\n",
        "Predict the class of the first 10 elements in the test set, and compare the predicted values with the actual, target values in the test set. Hints:\n",
        "* you can use [model.predict](https://www.activestate.com/resources/quick-reads/how-to-use-a-model-to-do-predictions-with-keras/) for prediction\n",
        "* from the output you can select the largest value with the [argmax() function of Numpy](https://stackoverflow.com/questions/62358642/convert-one-hot-encoding-back-to-number-label). As there are multiple values, you have to call it with axis=1 parameter.\n",
        "* it is enought to compare the predictions and the targets by printing the values out and inspecting them."
      ],
      "metadata": {
        "id": "0Io4zYJeHjz6"
      }
    },
    {
      "cell_type": "code",
      "source": [
        "preds = model.predict(X_test[:10])\n",
        "preds_dense = np.argmax(preds, axis=1)\n",
        "print(preds_dense)"
      ],
      "metadata": {
        "id": "XEEyU7exILqF",
        "colab": {
          "base_uri": "https://localhost:8080/"
        },
        "outputId": "6ef38f13-3719-4fa5-ed4a-aa887ce00db1"
      },
      "execution_count": 83,
      "outputs": [
        {
          "output_type": "stream",
          "name": "stdout",
          "text": [
            "1/1 [==============================] - 0s 17ms/step\n",
            "[3 9 0 0 4 6 1 6 4 1]\n"
          ]
        }
      ]
    },
    {
      "cell_type": "markdown",
      "source": [
        "Before comparision, you have to convert back the one-hot encoded target values the same way, as you converted the output of the neural network to class values with argmax() function."
      ],
      "metadata": {
        "id": "seZTEFI-I5cZ"
      }
    },
    {
      "cell_type": "code",
      "source": [
        "print(\"Target labels:\", np.argmax(Y_test[:10],axis=1))\n",
        "print(\"Predicted labels:\", preds_dense)"
      ],
      "metadata": {
        "id": "PHLvoMuIIkJ6",
        "colab": {
          "base_uri": "https://localhost:8080/"
        },
        "outputId": "6b461cb7-7bf6-4efd-ed57-cb054b7fac2c"
      },
      "execution_count": 84,
      "outputs": [
        {
          "output_type": "stream",
          "name": "stdout",
          "text": [
            "Target labels: [3 8 8 0 6 6 1 6 3 1]\n",
            "Predicted labels: [3 9 0 0 4 6 1 6 4 1]\n"
          ]
        }
      ]
    }
  ]
}