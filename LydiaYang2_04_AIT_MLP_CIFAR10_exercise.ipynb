{
  "nbformat": 4,
  "nbformat_minor": 0,
  "metadata": {
    "anaconda-cloud": {},
    "kernelspec": {
      "display_name": "Python 3",
      "name": "python3"
    },
    "language_info": {
      "codemirror_mode": {
        "name": "ipython",
        "version": 3
      },
      "file_extension": ".py",
      "mimetype": "text/x-python",
      "name": "python",
      "nbconvert_exporter": "python",
      "pygments_lexer": "ipython3",
      "version": "3.6.6"
    },
    "colab": {
      "provenance": [],
      "include_colab_link": true
    }
  },
  "cells": [
    {
      "cell_type": "markdown",
      "metadata": {
        "id": "view-in-github",
        "colab_type": "text"
      },
      "source": [
        "<a href=\"https://colab.research.google.com/github/lydyang/AIT-Deep-Learning/blob/main/LydiaYang2_04_AIT_MLP_CIFAR10_exercise.ipynb\" target=\"_parent\"><img src=\"https://colab.research.google.com/assets/colab-badge.svg\" alt=\"Open In Colab\"/></a>"
      ]
    },
    {
      "cell_type": "markdown",
      "metadata": {
        "id": "cW-EyI5Lxpqi"
      },
      "source": [
        "# Copyright\n",
        "\n",
        "<PRE>\n",
        "Copyright (c) 2024 Bálint Gyires-Tóth - All Rights Reserved\n",
        "You may use and modify this code for research and development purpuses.\n",
        "Using this code for educational purposes (self-paced or instructor led) without the permission of the author is prohibited.\n",
        "</PRE>"
      ]
    },
    {
      "cell_type": "markdown",
      "source": [
        "# Example of data exploration, modeling, regulartion and prediction\n",
        "Our exercise today involves loading a standard dataset using TensorFlow Keras API, exploring the data, building a simple neural network, and evaluating the effects of basic methods (activation functions, regularization, weight initialization, etc.). We then perform predictions on the test set and inspect the results."
      ],
      "metadata": {
        "id": "3EX4cCa4WKJu"
      }
    },
    {
      "cell_type": "markdown",
      "source": [
        "# 1. Data\n",
        "The dataset we will use is the well-known CIFAR10 (Canadian Institute For Advanced Research). Explore the details on the Keras website first: https://keras.io/api/datasets/cifar10/\n",
        "\n",
        "After you explored the basic features of the data, let's load it into the memory and explore the shapes:"
      ],
      "metadata": {
        "id": "yY9fztIeWIKt"
      }
    },
    {
      "cell_type": "code",
      "source": [
        "from tensorflow.keras.datasets import cifar10\n",
        "from tensorflow.keras.utils import to_categorical\n",
        "import numpy as np"
      ],
      "metadata": {
        "id": "giRZKTjzX_7l"
      },
      "execution_count": 1,
      "outputs": []
    },
    {
      "cell_type": "code",
      "source": [
        "(X_train, Y_train), (X_test, Y_test) = cifar10.load_data()"
      ],
      "metadata": {
        "id": "bez7q0eiWQCK"
      },
      "execution_count": 2,
      "outputs": []
    },
    {
      "cell_type": "code",
      "source": [
        "print(X_train.shape)\n",
        "print(X_test.shape)\n",
        "print(Y_train.shape)\n",
        "print(Y_test.shape)"
      ],
      "metadata": {
        "id": "2tJoRq5wXywi",
        "colab": {
          "base_uri": "https://localhost:8080/"
        },
        "outputId": "ed12b629-93dd-4a41-963a-1d747ca84ac0"
      },
      "execution_count": 3,
      "outputs": [
        {
          "output_type": "stream",
          "name": "stdout",
          "text": [
            "(50000, 32, 32, 3)\n",
            "(10000, 32, 32, 3)\n",
            "(50000, 1)\n",
            "(10000, 1)\n"
          ]
        }
      ]
    },
    {
      "cell_type": "markdown",
      "source": [
        "## 1.1. Exercise\n",
        "Display the first ten images of the training data. Hints:\n",
        "* Axis 0 refers to the separate images, e.g. X_train[0]\n",
        "* You can use the [Matplotlib Pyplot imshow function](https://matplotlib.org/stable/api/_as_gen/matplotlib.pyplot.imshow.html) for displaying the image. Just don't forget to import Plotly first!\n",
        "* A corresponding example, but you have to modify the code for your purpose: https://stackoverflow.com/questions/46615554/how-to-display-multiple-images-in-one-figure-correctly"
      ],
      "metadata": {
        "id": "zTCSGFyDlNvf"
      }
    },
    {
      "cell_type": "code",
      "source": [
        "import matplotlib.pyplot as plt\n",
        "import numpy as np\n",
        "\n",
        "class_names = [\"airplane\", \"automobile\", \"bird\", \"cat\", \"deer\", \"dog\", \"frog\", \"horse\", \"ship\", \"truck\"]\n",
        "\n",
        "plt.figure(figsize=(10, 10))\n",
        "for i in range(10):\n",
        "  plt.subplot(5, 5, i+1)\n",
        "  plt.xticks([])\n",
        "  plt.yticks([])\n",
        "  plt.grid(False)\n",
        "  plt.imshow(X_train[i], cmap=plt.cm.binary)\n",
        "  plt.xlabel(class_names[int(Y_train[i])])\n",
        "plt.show()"
      ],
      "metadata": {
        "id": "hIQhHTppmBdO",
        "colab": {
          "base_uri": "https://localhost:8080/",
          "height": 402
        },
        "outputId": "8260c9e9-d55b-45ac-974d-63d43b0e6229"
      },
      "execution_count": 4,
      "outputs": [
        {
          "output_type": "stream",
          "name": "stderr",
          "text": [
            "<ipython-input-4-11df8697e085>:13: DeprecationWarning: Conversion of an array with ndim > 0 to a scalar is deprecated, and will error in future. Ensure you extract a single element from your array before performing this operation. (Deprecated NumPy 1.25.)\n",
            "  plt.xlabel(class_names[int(Y_train[i])])\n"
          ]
        },
        {
          "output_type": "display_data",
          "data": {
            "text/plain": [
              "<Figure size 1000x1000 with 10 Axes>"
            ],
            "image/png": "[encoded data removed]"
          },
          "metadata": {}
        }
      ]
    },
    {
      "cell_type": "markdown",
      "source": [
        "Print the corresponding labels of the displayed images from the target variable (Y_train):"
      ],
      "metadata": {
        "id": "FAQkUWlmm-bc"
      }
    },
    {
      "cell_type": "code",
      "source": [
        "for i in range(10):\n",
        "  print(\"Image: \",i, \"label: \", int(Y_train[i]), class_names[int(Y_train[i])])"
      ],
      "metadata": {
        "id": "AkOrWzghnJ78",
        "colab": {
          "base_uri": "https://localhost:8080/"
        },
        "outputId": "ef4326b6-1ffd-490d-b27c-c2f79e2de059"
      },
      "execution_count": 5,
      "outputs": [
        {
          "output_type": "stream",
          "name": "stdout",
          "text": [
            "Image:  0 label:  6 frog\n",
            "Image:  1 label:  9 truck\n",
            "Image:  2 label:  9 truck\n",
            "Image:  3 label:  4 deer\n",
            "Image:  4 label:  1 automobile\n",
            "Image:  5 label:  1 automobile\n",
            "Image:  6 label:  2 bird\n",
            "Image:  7 label:  7 horse\n",
            "Image:  8 label:  8 ship\n",
            "Image:  9 label:  3 cat\n"
          ]
        },
        {
          "output_type": "stream",
          "name": "stderr",
          "text": [
            "<ipython-input-5-fdd68b47d9b7>:2: DeprecationWarning: Conversion of an array with ndim > 0 to a scalar is deprecated, and will error in future. Ensure you extract a single element from your array before performing this operation. (Deprecated NumPy 1.25.)\n",
            "  print(\"Image: \",i, \"label: \", int(Y_train[i]), class_names[int(Y_train[i])])\n"
          ]
        }
      ]
    },
    {
      "cell_type": "markdown",
      "source": [
        "## 1.2. Exercise\n",
        "We will train a Multi-Layer Perceptron (MLP), which requires a 2 dimensional input: 0th axis refers to the datapoints (i.e. images), the 1th dimens to the input. As images are 3 dimensional (width, height, color channels), you have to reshape the images into vectors. We also call this flattening.\n",
        "\n",
        "In order to do so, calculate the size of the equivalent 1D vector of the image:"
      ],
      "metadata": {
        "id": "VX24g5FstsRU"
      }
    },
    {
      "cell_type": "code",
      "source": [
        "flattened_dim = X_train.shape[1] * X_train.shape[2] * X_train.shape[3]\n",
        "print(flattened_dim)"
      ],
      "metadata": {
        "id": "hdoMyxHzuXZG",
        "colab": {
          "base_uri": "https://localhost:8080/"
        },
        "outputId": "ed64469b-c51f-40da-c531-513998fbbdeb"
      },
      "execution_count": 6,
      "outputs": [
        {
          "output_type": "stream",
          "name": "stdout",
          "text": [
            "3072\n"
          ]
        }
      ]
    },
    {
      "cell_type": "markdown",
      "source": [
        "After you calculated it, we can reshape the images, and covert the integer arrays into float arrays -- which are needed for the neural networks as input. Hint:\n",
        "* in the [reshape() function of Numpy](https://www.w3schools.com/python/numpy/numpy_array_reshape.asp) you can use -1 for one axis, to automatically calculate that value."
      ],
      "metadata": {
        "id": "WbqXJUSFubeC"
      }
    },
    {
      "cell_type": "code",
      "source": [
        "# reshape 3D tensors to 2D tensors\n",
        "X_train = X_train.reshape(-1, flattened_dim)\n",
        "X_test = X_test.reshape(-1, flattened_dim)\n",
        "# it is in int8 format, the neural network requires float32\n",
        "X_train = X_train.astype('float32')\n",
        "X_test = X_test.astype('float32')\n",
        "\n",
        "\n",
        "print(X_train)"
      ],
      "metadata": {
        "id": "vukOcBM0XzSj",
        "colab": {
          "base_uri": "https://localhost:8080/"
        },
        "outputId": "78e2120e-8033-4002-9007-fe7f61122056"
      },
      "execution_count": 7,
      "outputs": [
        {
          "output_type": "stream",
          "name": "stdout",
          "text": [
            "[[ 59.  62.  63. ... 123.  92.  72.]\n",
            " [154. 177. 187. ... 143. 133. 144.]\n",
            " [255. 255. 255. ...  80.  86.  84.]\n",
            " ...\n",
            " [ 35. 178. 235. ...  12.  31.  50.]\n",
            " [189. 211. 240. ... 195. 190. 171.]\n",
            " [229. 229. 239. ... 163. 163. 161.]]\n"
          ]
        }
      ]
    },
    {
      "cell_type": "markdown",
      "source": [
        "## 1.3. Exercise\n",
        "As the next step, let's split the training data into training and validation data. 80% of the original training data should be the final training data, and 20% the validation.\n",
        "You should use Numpy indexing to select the first 80% of X_train as final X_train, and the last 20% as X_valid. Hints:\n",
        "* https://datascienceparichay.com/article/numpy-array-first-n-rows/\n",
        "* https://datascienceparichay.com/article/numpy-array-last-n-rows/"
      ],
      "metadata": {
        "id": "DO79AdIdvVfD"
      }
    },
    {
      "cell_type": "code",
      "source": [
        "train_ratio  = 0.8\n",
        "train_length = len(X_train) # length of the training data\n",
        "train_split  = int(train_length*train_ratio) # where to split the training and validation data\n",
        "X_valid, Y_valid = X_train[train_split:], Y_train[train_split:]\n",
        "print(len(X_valid), len(Y_valid))\n",
        "X_train, Y_train = X_train[:train_split], Y_train[:train_split]\n",
        "print(len(X_train), len(Y_train))"
      ],
      "metadata": {
        "id": "mRwuWxxIxLgN",
        "colab": {
          "base_uri": "https://localhost:8080/"
        },
        "outputId": "07119f5e-a3b6-4d9e-e691-1b98ad924c39"
      },
      "execution_count": 8,
      "outputs": [
        {
          "output_type": "stream",
          "name": "stdout",
          "text": [
            "10000 10000\n",
            "40000 40000\n"
          ]
        }
      ]
    },
    {
      "cell_type": "markdown",
      "source": [
        "## 1.4. Exercise\n",
        "As the last step of input data preparation, the data should be standardized. Calculate the mean and variance of the training data (elementvise -- so for each value of the flattened image you should get a mean and variance for the training data along 0th axis). Hint:\n",
        "* https://stackoverflow.com/questions/70626231/how-to-calculate-mean-variance-standard-deviation-per-index-of-array"
      ],
      "metadata": {
        "id": "z05y_QWDxWER"
      }
    },
    {
      "cell_type": "code",
      "source": [
        "mean = np.mean(X_train, axis=0)\n",
        "std  = np.std(X_train, axis=0)"
      ],
      "metadata": {
        "id": "TSZbvWCBx8Ea"
      },
      "execution_count": 9,
      "outputs": []
    },
    {
      "cell_type": "markdown",
      "source": [
        "Next, use the resulting values to standardize the training, validation and test data by substracting the mean and dividing the result with the standard deviation."
      ],
      "metadata": {
        "id": "6WRHKkkjyN1S"
      }
    },
    {
      "cell_type": "code",
      "source": [
        "X_train = (X_train-mean)/std\n",
        "print(X_train)\n",
        "X_valid = (X_valid-mean)/std\n",
        "print(X_valid)\n",
        "X_test  = (X_test-mean)/std\n",
        "print(X_test)"
      ],
      "metadata": {
        "id": "2ESLP1EIyB2J",
        "colab": {
          "base_uri": "https://localhost:8080/"
        },
        "outputId": "940b389f-93b2-418d-9e5b-75c469000191"
      },
      "execution_count": 10,
      "outputs": [
        {
          "output_type": "stream",
          "name": "stdout",
          "text": [
            "[[-0.97955424 -1.0164323  -0.8645842  ... -0.05938103 -0.54212403\n",
            "  -0.6427596 ]\n",
            " [ 0.3147265   0.5601948   0.67692906 ...  0.24799617  0.11093279\n",
            "   0.44425038]\n",
            " [ 1.6907513   1.6295593   1.522275   ... -0.720242   -0.63769335\n",
            "  -0.4615913 ]\n",
            " ...\n",
            " [ 0.4918386   0.06664198 -0.28030095 ...  0.5246357   0.126861\n",
            "   0.23288733]\n",
            " [-1.1702904  -0.8244951  -0.06896446 ... -0.9968815  -1.1633245\n",
            "  -1.367433  ]\n",
            " [ 1.4182712   1.5884298   1.4849803  ...  0.5553734   0.6843485\n",
            "   0.8971712 ]]\n",
            "[[ 1.6907513   1.6295593   1.5098435  ...  1.8463576   1.9426775\n",
            "   2.014376  ]\n",
            " [-0.0531217   0.12148119  0.42829788 ... -0.68950427 -0.4146983\n",
            "  -0.03886518]\n",
            " [-0.20298578 -0.89304405 -1.3245518  ... -1.3657341  -1.7048837\n",
            "  -1.6542828 ]\n",
            " ...\n",
            " [-1.3065304   0.5739046   1.2736439  ... -1.7653245  -1.5137452\n",
            "  -0.97490156]\n",
            " [ 0.7915668   1.026328    1.3358016  ...  1.0471768   1.018841\n",
            "   0.8518791 ]\n",
            " [ 1.3365271   1.2731044   1.3233701  ...  0.5553734   0.5887793\n",
            "   0.7009055 ]]\n",
            "[[ 0.36922255 -0.33094224 -1.0386261  ... -1.6270047  -0.94032943\n",
            "  -0.0690599 ]\n",
            " [ 1.4182712   1.3553632   1.2736439  ...  0.90885717  1.1781232\n",
            "   1.2746053 ]\n",
            " [ 0.36922255  0.7384222   1.1120336  ... -1.8421688  -1.880094\n",
            "  -1.6240882 ]\n",
            " ...\n",
            " [-1.5108905  -1.660793   -1.4985937  ... -1.5655293  -1.6889555\n",
            "  -1.0201937 ]\n",
            " [-1.4427705  -1.3180479  -1.4985937  ... -0.5358157  -0.09613401\n",
            "  -0.52198076]\n",
            " [-0.7888181  -0.79707545 -0.7154055  ... -1.5347916  -1.5933862\n",
            "  -1.3372383 ]]\n"
          ]
        }
      ]
    },
    {
      "cell_type": "markdown",
      "source": [
        "## 1.5. Exercise\n",
        "And as the last step, convert the dense representation of the classes (i.e. 0,1,2,3...9) to one-hot encoding (0 = [1 0 0 0 0 0 0 0 0 0], 1 = [0 1 0 0 0 0 0 0 0 0] ... 9 = [0 0 0 0 0 0 0 0 0 1]). To do this, first, calculate the number of unique elements in the target training data. Hints:\n",
        "* use the [unique() function](https://numpy.org/doc/stable/reference/generated/numpy.unique.html) of Numpy to list the unique elements\n",
        "* you can count the number of elements in a list with the [len() function](https://www.w3schools.com/python/ref_func_len.asp)"
      ],
      "metadata": {
        "id": "ooHCnUin7r4o"
      }
    },
    {
      "cell_type": "code",
      "source": [
        "nb_classes = len(np.unique(Y_train))\n",
        "print(nb_classes)"
      ],
      "metadata": {
        "id": "i0LAO9cs8KEE",
        "colab": {
          "base_uri": "https://localhost:8080/"
        },
        "outputId": "8386ff73-8617-4495-b649-953371ee7ca6"
      },
      "execution_count": 11,
      "outputs": [
        {
          "output_type": "stream",
          "name": "stdout",
          "text": [
            "10\n"
          ]
        }
      ]
    },
    {
      "cell_type": "markdown",
      "source": [
        "Doublecheck, if the same number of classes exists in the validation and test target data:"
      ],
      "metadata": {
        "id": "BvM6XhGe8JU9"
      }
    },
    {
      "cell_type": "code",
      "source": [
        "print(\"Validation data has the same number of classes, as the training data:\", nb_classes == len(np.unique(Y_valid)))\n",
        "print(\"Test data has the same number of classes, as the training data:\", nb_classes == len(np.unique(Y_test)))"
      ],
      "metadata": {
        "id": "eZFNSsyx_Py2",
        "colab": {
          "base_uri": "https://localhost:8080/"
        },
        "outputId": "beead453-0692-480f-c192-23c55142b44f"
      },
      "execution_count": 12,
      "outputs": [
        {
          "output_type": "stream",
          "name": "stdout",
          "text": [
            "Validation data has the same number of classes, as the training data: True\n",
            "Test data has the same number of classes, as the training data: True\n"
          ]
        }
      ]
    },
    {
      "cell_type": "markdown",
      "source": [
        "And convert the dense representation into one-hot encoding. Hint:\n",
        "* use the [to_categorical function](https://www.tensorflow.org/api_docs/python/tf/keras/utils/to_categorical) with the calculated nb_classes\n"
      ],
      "metadata": {
        "id": "mJM-iBmR8dLe"
      }
    },
    {
      "cell_type": "code",
      "source": [
        "import tensorflow as tf\n",
        "from tensorflow import keras\n",
        "Y_train = tf.keras.utils.to_categorical(Y_train, nb_classes)\n",
        "Y_valid = tf.keras.utils.to_categorical(Y_valid, nb_classes)\n",
        "Y_test  = tf.keras.utils.to_categorical(Y_test, nb_classes)"
      ],
      "metadata": {
        "id": "xwZ4OJ6I8lba"
      },
      "execution_count": 13,
      "outputs": []
    },
    {
      "cell_type": "markdown",
      "source": [
        "## Final check of data preparation\n",
        "Now, lets check the shapes and mean and standard deviation of the training, validation and test data."
      ],
      "metadata": {
        "id": "LshN2OSsv3TZ"
      }
    },
    {
      "cell_type": "code",
      "source": [
        "print(\"Shapes of the training, validation and test input data:\", X_train.shape, X_valid.shape, X_test.shape)\n",
        "print(\"Shapes of the training, validation and test output data:\", Y_train.shape, Y_valid.shape, Y_test.shape)\n",
        "print(\"Mean values of the training, validation and test input data:\", X_train.mean(), X_valid.mean(), X_test.mean())\n",
        "print(\"Standard deviation of the training, validation and test input data:\", X_train.std(), X_valid.std(), X_test.std())"
      ],
      "metadata": {
        "id": "O_jdJVcvX0vi",
        "colab": {
          "base_uri": "https://localhost:8080/"
        },
        "outputId": "65b6105b-c492-4774-8d65-d5537084c371"
      },
      "execution_count": 14,
      "outputs": [
        {
          "output_type": "stream",
          "name": "stdout",
          "text": [
            "Shapes of the training, validation and test input data: (40000, 3072) (10000, 3072) (10000, 3072)\n",
            "Shapes of the training, validation and test output data: (40000, 10) (10000, 10) (10000, 10)\n",
            "Mean values of the training, validation and test input data: -2.4725992e-09 0.0023437182 0.013331188\n",
            "Standard deviation of the training, validation and test input data: 1.0000038 0.99656224 0.9978297\n"
          ]
        }
      ]
    },
    {
      "cell_type": "markdown",
      "source": [
        "Don't worry, if the mean and standard deviation of the validation and test data are not exactly 0 and 1, but these might be very mear to it (e.g. 0.01 mean, 0.99 variance)."
      ],
      "metadata": {
        "id": "5GtAOOoezmZY"
      }
    },
    {
      "cell_type": "markdown",
      "metadata": {
        "id": "cJ14oyZExpqj"
      },
      "source": [
        "# 2. Training"
      ]
    },
    {
      "cell_type": "markdown",
      "metadata": {
        "id": "s4ZXYRMBxpql"
      },
      "source": [
        "Let us begin with a simple example of creating a small neural network without regularization and training it with actual data. The purpose of this is to provide you with an example as to how to proceed with the next exercise."
      ]
    },
    {
      "cell_type": "code",
      "source": [
        "# imports\n",
        "import numpy as np\n",
        "import matplotlib.pyplot as plt\n",
        "from tensorflow.keras.models import Sequential\n",
        "from tensorflow.keras.layers import Dense, Embedding, Flatten, Dropout\n",
        "from tensorflow.keras.initializers import HeNormal\n",
        "from tensorflow.keras.callbacks import EarlyStopping"
      ],
      "metadata": {
        "id": "6-8Q6ll7ZDgq"
      },
      "execution_count": 15,
      "outputs": []
    },
    {
      "cell_type": "code",
      "source": [
        "# model definition\n",
        "model = Sequential()\n",
        "model.add(Dense(128, activation='tanh', input_shape=(flattened_dim,)))\n",
        "model.add(Dense(128, activation='tanh'))\n",
        "model.add(Dense(nb_classes, activation='softmax'))\n",
        "\n",
        "# loss function and optimizer\n",
        "model.compile(loss='categorical_crossentropy', optimizer='adam', metrics=['accuracy'])"
      ],
      "metadata": {
        "id": "pke6w3CD8DHp"
      },
      "execution_count": 16,
      "outputs": []
    },
    {
      "cell_type": "code",
      "metadata": {
        "id": "CZbOR76QxprC",
        "colab": {
          "base_uri": "https://localhost:8080/"
        },
        "outputId": "26a6a990-2a78-40c6-aac0-20d3d6735225"
      },
      "source": [
        "# training\n",
        "network_history = model.fit(X_train, Y_train,\n",
        "                            validation_data=(X_valid,Y_valid),\n",
        "                            batch_size=128,\n",
        "                            epochs=40,\n",
        "                            verbose=1)"
      ],
      "execution_count": 17,
      "outputs": [
        {
          "output_type": "stream",
          "name": "stdout",
          "text": [
            "Epoch 1/40\n",
            "313/313 [==============================] - 5s 13ms/step - loss: 1.8229 - accuracy: 0.3612 - val_loss: 1.7488 - val_accuracy: 0.3906\n",
            "Epoch 2/40\n",
            "313/313 [==============================] - 5s 17ms/step - loss: 1.6868 - accuracy: 0.4120 - val_loss: 1.7201 - val_accuracy: 0.4017\n",
            "Epoch 3/40\n",
            "313/313 [==============================] - 4s 13ms/step - loss: 1.6327 - accuracy: 0.4321 - val_loss: 1.7035 - val_accuracy: 0.4085\n",
            "Epoch 4/40\n",
            "313/313 [==============================] - 4s 14ms/step - loss: 1.5960 - accuracy: 0.4476 - val_loss: 1.6909 - val_accuracy: 0.4172\n",
            "Epoch 5/40\n",
            "313/313 [==============================] - 5s 15ms/step - loss: 1.5570 - accuracy: 0.4613 - val_loss: 1.6747 - val_accuracy: 0.4199\n",
            "Epoch 6/40\n",
            "313/313 [==============================] - 4s 12ms/step - loss: 1.5338 - accuracy: 0.4695 - val_loss: 1.6659 - val_accuracy: 0.4250\n",
            "Epoch 7/40\n",
            "313/313 [==============================] - 3s 11ms/step - loss: 1.5064 - accuracy: 0.4791 - val_loss: 1.6470 - val_accuracy: 0.4314\n",
            "Epoch 8/40\n",
            "313/313 [==============================] - 5s 15ms/step - loss: 1.4776 - accuracy: 0.4904 - val_loss: 1.6400 - val_accuracy: 0.4341\n",
            "Epoch 9/40\n",
            "313/313 [==============================] - 4s 13ms/step - loss: 1.4508 - accuracy: 0.4972 - val_loss: 1.6379 - val_accuracy: 0.4407\n",
            "Epoch 10/40\n",
            "313/313 [==============================] - 4s 13ms/step - loss: 1.4229 - accuracy: 0.5062 - val_loss: 1.6262 - val_accuracy: 0.4383\n",
            "Epoch 11/40\n",
            "313/313 [==============================] - 5s 14ms/step - loss: 1.4013 - accuracy: 0.5135 - val_loss: 1.6201 - val_accuracy: 0.4407\n",
            "Epoch 12/40\n",
            "313/313 [==============================] - 4s 14ms/step - loss: 1.3779 - accuracy: 0.5236 - val_loss: 1.6169 - val_accuracy: 0.4438\n",
            "Epoch 13/40\n",
            "313/313 [==============================] - 4s 13ms/step - loss: 1.3581 - accuracy: 0.5332 - val_loss: 1.6044 - val_accuracy: 0.4536\n",
            "Epoch 14/40\n",
            "313/313 [==============================] - 5s 16ms/step - loss: 1.3319 - accuracy: 0.5430 - val_loss: 1.6206 - val_accuracy: 0.4438\n",
            "Epoch 15/40\n",
            "313/313 [==============================] - 4s 13ms/step - loss: 1.3196 - accuracy: 0.5445 - val_loss: 1.6138 - val_accuracy: 0.4498\n",
            "Epoch 16/40\n",
            "313/313 [==============================] - 4s 12ms/step - loss: 1.3024 - accuracy: 0.5505 - val_loss: 1.5998 - val_accuracy: 0.4568\n",
            "Epoch 17/40\n",
            "313/313 [==============================] - 5s 15ms/step - loss: 1.2789 - accuracy: 0.5573 - val_loss: 1.6248 - val_accuracy: 0.4452\n",
            "Epoch 18/40\n",
            "313/313 [==============================] - 4s 13ms/step - loss: 1.2606 - accuracy: 0.5639 - val_loss: 1.6143 - val_accuracy: 0.4532\n",
            "Epoch 19/40\n",
            "313/313 [==============================] - 4s 13ms/step - loss: 1.2399 - accuracy: 0.5745 - val_loss: 1.6103 - val_accuracy: 0.4605\n",
            "Epoch 20/40\n",
            "313/313 [==============================] - 5s 16ms/step - loss: 1.2195 - accuracy: 0.5794 - val_loss: 1.6176 - val_accuracy: 0.4534\n",
            "Epoch 21/40\n",
            "313/313 [==============================] - 3s 11ms/step - loss: 1.2021 - accuracy: 0.5814 - val_loss: 1.6331 - val_accuracy: 0.4538\n",
            "Epoch 22/40\n",
            "313/313 [==============================] - 4s 11ms/step - loss: 1.1900 - accuracy: 0.5892 - val_loss: 1.6326 - val_accuracy: 0.4523\n",
            "Epoch 23/40\n",
            "313/313 [==============================] - 4s 14ms/step - loss: 1.1602 - accuracy: 0.5981 - val_loss: 1.6424 - val_accuracy: 0.4549\n",
            "Epoch 24/40\n",
            "313/313 [==============================] - 4s 12ms/step - loss: 1.1402 - accuracy: 0.6061 - val_loss: 1.6369 - val_accuracy: 0.4515\n",
            "Epoch 25/40\n",
            "313/313 [==============================] - 4s 14ms/step - loss: 1.1186 - accuracy: 0.6158 - val_loss: 1.6355 - val_accuracy: 0.4589\n",
            "Epoch 26/40\n",
            "313/313 [==============================] - 5s 16ms/step - loss: 1.1183 - accuracy: 0.6132 - val_loss: 1.6580 - val_accuracy: 0.4571\n",
            "Epoch 27/40\n",
            "313/313 [==============================] - 4s 12ms/step - loss: 1.0946 - accuracy: 0.6224 - val_loss: 1.6718 - val_accuracy: 0.4503\n",
            "Epoch 28/40\n",
            "313/313 [==============================] - 3s 11ms/step - loss: 1.0871 - accuracy: 0.6230 - val_loss: 1.6784 - val_accuracy: 0.4532\n",
            "Epoch 29/40\n",
            "313/313 [==============================] - 5s 15ms/step - loss: 1.0618 - accuracy: 0.6344 - val_loss: 1.6941 - val_accuracy: 0.4444\n",
            "Epoch 30/40\n",
            "313/313 [==============================] - 4s 12ms/step - loss: 1.0410 - accuracy: 0.6421 - val_loss: 1.6960 - val_accuracy: 0.4523\n",
            "Epoch 31/40\n",
            "313/313 [==============================] - 4s 12ms/step - loss: 1.0321 - accuracy: 0.6434 - val_loss: 1.7162 - val_accuracy: 0.4529\n",
            "Epoch 32/40\n",
            "313/313 [==============================] - 5s 16ms/step - loss: 1.0140 - accuracy: 0.6512 - val_loss: 1.7337 - val_accuracy: 0.4450\n",
            "Epoch 33/40\n",
            "313/313 [==============================] - 4s 11ms/step - loss: 0.9995 - accuracy: 0.6558 - val_loss: 1.7317 - val_accuracy: 0.4571\n",
            "Epoch 34/40\n",
            "313/313 [==============================] - 4s 12ms/step - loss: 0.9814 - accuracy: 0.6615 - val_loss: 1.7343 - val_accuracy: 0.4559\n",
            "Epoch 35/40\n",
            "313/313 [==============================] - 5s 16ms/step - loss: 0.9731 - accuracy: 0.6639 - val_loss: 1.7654 - val_accuracy: 0.4440\n",
            "Epoch 36/40\n",
            "313/313 [==============================] - 4s 13ms/step - loss: 0.9521 - accuracy: 0.6728 - val_loss: 1.7602 - val_accuracy: 0.4553\n",
            "Epoch 37/40\n",
            "313/313 [==============================] - 4s 12ms/step - loss: 0.9364 - accuracy: 0.6777 - val_loss: 1.7982 - val_accuracy: 0.4453\n",
            "Epoch 38/40\n",
            "313/313 [==============================] - 4s 14ms/step - loss: 0.9260 - accuracy: 0.6829 - val_loss: 1.7793 - val_accuracy: 0.4567\n",
            "Epoch 39/40\n",
            "313/313 [==============================] - 4s 12ms/step - loss: 0.9076 - accuracy: 0.6877 - val_loss: 1.7884 - val_accuracy: 0.4566\n",
            "Epoch 40/40\n",
            "313/313 [==============================] - 3s 11ms/step - loss: 0.8969 - accuracy: 0.6910 - val_loss: 1.8225 - val_accuracy: 0.4469\n"
          ]
        }
      ]
    },
    {
      "cell_type": "markdown",
      "metadata": {
        "id": "uFqhzV85xprJ"
      },
      "source": [
        "Let's plot the training and validation loss and accuracy curves:"
      ]
    },
    {
      "cell_type": "code",
      "metadata": {
        "id": "BYmXGkLCxprK",
        "colab": {
          "base_uri": "https://localhost:8080/",
          "height": 902
        },
        "outputId": "1b077f6f-d767-4b27-8687-56b7a9d8d0da"
      },
      "source": [
        "def plot_history(network_history):\n",
        "    plt.figure()\n",
        "    plt.xlabel('Epochs')\n",
        "    plt.ylabel('Loss')\n",
        "    plt.plot(network_history.history['loss'])\n",
        "    plt.plot(network_history.history['val_loss'])\n",
        "    plt.legend(['Training', 'Validation'])\n",
        "\n",
        "    plt.figure()\n",
        "    plt.xlabel('Epochs')\n",
        "    plt.ylabel('Accuracy')\n",
        "    plt.plot(network_history.history['accuracy'])\n",
        "    plt.plot(network_history.history['val_accuracy'])\n",
        "    plt.legend(['Training', 'Validation'], loc='lower right')\n",
        "    plt.show()\n",
        "\n",
        "plot_history(network_history)"
      ],
      "execution_count": 18,
      "outputs": [
        {
          "output_type": "display_data",
          "data": {
            "text/plain": [
              "<Figure size 640x480 with 1 Axes>"
            ],
            "image/png": "[encoded data removed]"
          },
          "metadata": {}
        },
        {
          "output_type": "display_data",
          "data": {
            "text/plain": [
              "<Figure size 640x480 with 1 Axes>"
            ],
            "image/png": "[encoded data removed]"
          },
          "metadata": {}
        }
      ]
    },
    {
      "cell_type": "markdown",
      "source": [
        "What do you think? Does it overfit?"
      ],
      "metadata": {
        "id": "tgG7QeXF-dx6"
      }
    },
    {
      "cell_type": "markdown",
      "metadata": {
        "id": "_Q9rIeBBxprO"
      },
      "source": [
        "# Inspecting the model"
      ]
    },
    {
      "cell_type": "code",
      "metadata": {
        "id": "6r2AmmoMxprP",
        "colab": {
          "base_uri": "https://localhost:8080/"
        },
        "outputId": "9160d49b-d999-41a2-b8dc-7f0c4cd04b57"
      },
      "source": [
        "model.summary()"
      ],
      "execution_count": 19,
      "outputs": [
        {
          "output_type": "stream",
          "name": "stdout",
          "text": [
            "Model: \"sequential\"\n",
            "_________________________________________________________________\n",
            " Layer (type)                Output Shape              Param #   \n",
            "=================================================================\n",
            " dense (Dense)               (None, 128)               393344    \n",
            "                                                                 \n",
            " dense_1 (Dense)             (None, 128)               16512     \n",
            "                                                                 \n",
            " dense_2 (Dense)             (None, 10)                1290      \n",
            "                                                                 \n",
            "=================================================================\n",
            "Total params: 411146 (1.57 MB)\n",
            "Trainable params: 411146 (1.57 MB)\n",
            "Non-trainable params: 0 (0.00 Byte)\n",
            "_________________________________________________________________\n"
          ]
        }
      ]
    },
    {
      "cell_type": "code",
      "metadata": {
        "id": "D3-bVDVuxprS",
        "colab": {
          "base_uri": "https://localhost:8080/"
        },
        "outputId": "71043435-ed8b-41e7-8462-66530749e157"
      },
      "source": [
        "print('Input: ', model.input)"
      ],
      "execution_count": 20,
      "outputs": [
        {
          "output_type": "stream",
          "name": "stdout",
          "text": [
            "Input:  KerasTensor(type_spec=TensorSpec(shape=(None, 3072), dtype=tf.float32, name='dense_input'), name='dense_input', description=\"created by layer 'dense_input'\")\n"
          ]
        }
      ]
    },
    {
      "cell_type": "code",
      "metadata": {
        "id": "Da2OJ3DmxprX",
        "colab": {
          "base_uri": "https://localhost:8080/"
        },
        "outputId": "545b8a7e-a805-4363-876b-5351cfe1701b"
      },
      "source": [
        "print('Layers:\\n')\n",
        "for layer in model.layers:\n",
        "    print(\"Layer's name: \", layer.name, ', trainable: ', layer.trainable)\n",
        "    print(layer.get_config(),'\\n')"
      ],
      "execution_count": 21,
      "outputs": [
        {
          "output_type": "stream",
          "name": "stdout",
          "text": [
            "Layers:\n",
            "\n",
            "Layer's name:  dense , trainable:  True\n",
            "{'name': 'dense', 'trainable': True, 'dtype': 'float32', 'batch_input_shape': (None, 3072), 'units': 128, 'activation': 'tanh', 'use_bias': True, 'kernel_initializer': {'module': 'keras.initializers', 'class_name': 'GlorotUniform', 'config': {'seed': None}, 'registered_name': None}, 'bias_initializer': {'module': 'keras.initializers', 'class_name': 'Zeros', 'config': {}, 'registered_name': None}, 'kernel_regularizer': None, 'bias_regularizer': None, 'activity_regularizer': None, 'kernel_constraint': None, 'bias_constraint': None} \n",
            "\n",
            "Layer's name:  dense_1 , trainable:  True\n",
            "{'name': 'dense_1', 'trainable': True, 'dtype': 'float32', 'units': 128, 'activation': 'tanh', 'use_bias': True, 'kernel_initializer': {'module': 'keras.initializers', 'class_name': 'GlorotUniform', 'config': {'seed': None}, 'registered_name': None}, 'bias_initializer': {'module': 'keras.initializers', 'class_name': 'Zeros', 'config': {}, 'registered_name': None}, 'kernel_regularizer': None, 'bias_regularizer': None, 'activity_regularizer': None, 'kernel_constraint': None, 'bias_constraint': None} \n",
            "\n",
            "Layer's name:  dense_2 , trainable:  True\n",
            "{'name': 'dense_2', 'trainable': True, 'dtype': 'float32', 'units': 10, 'activation': 'softmax', 'use_bias': True, 'kernel_initializer': {'module': 'keras.initializers', 'class_name': 'GlorotUniform', 'config': {'seed': None}, 'registered_name': None}, 'bias_initializer': {'module': 'keras.initializers', 'class_name': 'Zeros', 'config': {}, 'registered_name': None}, 'kernel_regularizer': None, 'bias_regularizer': None, 'activity_regularizer': None, 'kernel_constraint': None, 'bias_constraint': None} \n",
            "\n"
          ]
        }
      ]
    },
    {
      "cell_type": "code",
      "metadata": {
        "id": "AtVX3M3lxprc",
        "colab": {
          "base_uri": "https://localhost:8080/"
        },
        "outputId": "e6c8f26f-2984-455d-f661-431cb7ff47ab"
      },
      "source": [
        "print('Output: ', model.output)"
      ],
      "execution_count": 22,
      "outputs": [
        {
          "output_type": "stream",
          "name": "stdout",
          "text": [
            "Output:  KerasTensor(type_spec=TensorSpec(shape=(None, 10), dtype=tf.float32, name=None), name='dense_2/Softmax:0', description=\"created by layer 'dense_2'\")\n"
          ]
        }
      ]
    },
    {
      "cell_type": "markdown",
      "source": [
        "## 2.1. Exercise\n",
        "Introduce [early stopping](https://www.tensorflow.org/api_docs/python/tf/keras/callbacks/EarlyStopping) and [dropout](https://www.tensorflow.org/api_docs/python/tf/keras/layers/Dropout) with a rate between 0.1..0.5. Tips:\n",
        "\n",
        "* Insert the dropout layer between the two Dense layers.\n",
        "* Set the patience of early stopping to 5.\n",
        "* Set the number of epochs to a very high number.\n",
        "* Don't forget to restore best weights after early stopping.\n",
        "* And also set early stopping to monitor validation accuracy (the default value is validation loss -- which is categorical crossentropy now).\n",
        "\n",
        "Compile and train the model. Attempt to increase the validation accuracy as much as possible by making changes to the dropout rate. Inspect the effects of the modifications."
      ],
      "metadata": {
        "id": "E-hHfs9qA_iO"
      }
    },
    {
      "cell_type": "code",
      "source": [
        "es = keras.callbacks.EarlyStopping(\n",
        "    monitor = 'val_accuracy',\n",
        "    patience = 5,\n",
        "    min_delta = 0.001,\n",
        "    restore_best_weights = True\n",
        ")"
      ],
      "metadata": {
        "id": "NwXrPzOgEBG-"
      },
      "execution_count": 23,
      "outputs": []
    },
    {
      "cell_type": "code",
      "source": [
        "# model definition with dropout\n",
        "model = Sequential()\n",
        "model.add(Dense(128, activation='tanh', input_shape=(flattened_dim,)))\n",
        "model.add(Dropout(0.1, input_shape = (flattened_dim,)))\n",
        "model.add(Dense(128, activation='tanh'))\n",
        "model.add(Dense(nb_classes, activation='softmax'))\n",
        "\n",
        "# loss function and optimizer\n",
        "model.compile(loss='categorical_crossentropy', optimizer='adam', metrics=['accuracy'])"
      ],
      "metadata": {
        "id": "7hZEGzj8GFwP"
      },
      "execution_count": 24,
      "outputs": []
    },
    {
      "cell_type": "code",
      "source": [
        "# training with early stopping\n",
        "network_history = model.fit(X_train, Y_train,\n",
        "                            validation_data=(X_valid,Y_valid),\n",
        "                            batch_size=128,\n",
        "                            epochs=50,\n",
        "                            verbose=1,\n",
        "                            callbacks=[es])"
      ],
      "metadata": {
        "id": "GCG54R-vGGWj",
        "colab": {
          "base_uri": "https://localhost:8080/"
        },
        "outputId": "3a8facdd-d089-41dc-ccfd-8d1810c85430"
      },
      "execution_count": 25,
      "outputs": [
        {
          "output_type": "stream",
          "name": "stdout",
          "text": [
            "Epoch 1/50\n",
            "313/313 [==============================] - 6s 18ms/step - loss: 1.8381 - accuracy: 0.3567 - val_loss: 1.7606 - val_accuracy: 0.3838\n",
            "Epoch 2/50\n",
            "313/313 [==============================] - 4s 12ms/step - loss: 1.7273 - accuracy: 0.3963 - val_loss: 1.7361 - val_accuracy: 0.3975\n",
            "Epoch 3/50\n",
            "313/313 [==============================] - 4s 14ms/step - loss: 1.6785 - accuracy: 0.4166 - val_loss: 1.6900 - val_accuracy: 0.4119\n",
            "Epoch 4/50\n",
            "313/313 [==============================] - 4s 13ms/step - loss: 1.6369 - accuracy: 0.4325 - val_loss: 1.6775 - val_accuracy: 0.4172\n",
            "Epoch 5/50\n",
            "313/313 [==============================] - 4s 13ms/step - loss: 1.6053 - accuracy: 0.4433 - val_loss: 1.6756 - val_accuracy: 0.4212\n",
            "Epoch 6/50\n",
            "313/313 [==============================] - 4s 14ms/step - loss: 1.5804 - accuracy: 0.4532 - val_loss: 1.6610 - val_accuracy: 0.4230\n",
            "Epoch 7/50\n",
            "313/313 [==============================] - 4s 14ms/step - loss: 1.5516 - accuracy: 0.4633 - val_loss: 1.6411 - val_accuracy: 0.4347\n",
            "Epoch 8/50\n",
            "313/313 [==============================] - 4s 13ms/step - loss: 1.5306 - accuracy: 0.4678 - val_loss: 1.6398 - val_accuracy: 0.4313\n",
            "Epoch 9/50\n",
            "313/313 [==============================] - 4s 14ms/step - loss: 1.5135 - accuracy: 0.4739 - val_loss: 1.6283 - val_accuracy: 0.4359\n",
            "Epoch 10/50\n",
            "313/313 [==============================] - 5s 15ms/step - loss: 1.4978 - accuracy: 0.4778 - val_loss: 1.6132 - val_accuracy: 0.4394\n",
            "Epoch 11/50\n",
            "313/313 [==============================] - 4s 13ms/step - loss: 1.4705 - accuracy: 0.4915 - val_loss: 1.6024 - val_accuracy: 0.4425\n",
            "Epoch 12/50\n",
            "313/313 [==============================] - 5s 16ms/step - loss: 1.4506 - accuracy: 0.4965 - val_loss: 1.6029 - val_accuracy: 0.4481\n",
            "Epoch 13/50\n",
            "313/313 [==============================] - 4s 13ms/step - loss: 1.4354 - accuracy: 0.5006 - val_loss: 1.5919 - val_accuracy: 0.4479\n",
            "Epoch 14/50\n",
            "313/313 [==============================] - 4s 14ms/step - loss: 1.4188 - accuracy: 0.5079 - val_loss: 1.5850 - val_accuracy: 0.4544\n",
            "Epoch 15/50\n",
            "313/313 [==============================] - 8s 24ms/step - loss: 1.4026 - accuracy: 0.5106 - val_loss: 1.5771 - val_accuracy: 0.4522\n",
            "Epoch 16/50\n",
            "313/313 [==============================] - 4s 13ms/step - loss: 1.3853 - accuracy: 0.5158 - val_loss: 1.5751 - val_accuracy: 0.4564\n",
            "Epoch 17/50\n",
            "313/313 [==============================] - 4s 12ms/step - loss: 1.3722 - accuracy: 0.5211 - val_loss: 1.5726 - val_accuracy: 0.4576\n",
            "Epoch 18/50\n",
            "313/313 [==============================] - 5s 16ms/step - loss: 1.3583 - accuracy: 0.5265 - val_loss: 1.5617 - val_accuracy: 0.4659\n",
            "Epoch 19/50\n",
            "313/313 [==============================] - 4s 14ms/step - loss: 1.3484 - accuracy: 0.5283 - val_loss: 1.5658 - val_accuracy: 0.4598\n",
            "Epoch 20/50\n",
            "313/313 [==============================] - 4s 12ms/step - loss: 1.3378 - accuracy: 0.5329 - val_loss: 1.5618 - val_accuracy: 0.4575\n",
            "Epoch 21/50\n",
            "313/313 [==============================] - 5s 15ms/step - loss: 1.3200 - accuracy: 0.5411 - val_loss: 1.5540 - val_accuracy: 0.4614\n",
            "Epoch 22/50\n",
            "313/313 [==============================] - 4s 13ms/step - loss: 1.3024 - accuracy: 0.5458 - val_loss: 1.5681 - val_accuracy: 0.4621\n",
            "Epoch 23/50\n",
            "313/313 [==============================] - 4s 12ms/step - loss: 1.2964 - accuracy: 0.5483 - val_loss: 1.5586 - val_accuracy: 0.4657\n"
          ]
        }
      ]
    },
    {
      "cell_type": "markdown",
      "source": [
        "## 2.2 Exercise\n",
        "Change the [activation function of the dense layers (except the last one)](https://www.tensorflow.org/api_docs/python/tf/keras/layers/Dense) to rectified linear unit (ReLU) and the [weight initialization](https://www.tensorflow.org/api_docs/python/tf/keras/initializers) to the theoretically best one. Use the original model's code.\n",
        "\n",
        "Compile and train the model. Inspect the effects of the modifications."
      ],
      "metadata": {
        "id": "zQCDM1o1BBtF"
      }
    },
    {
      "cell_type": "code",
      "source": [
        "# model definition with relu\n",
        "model = Sequential()\n",
        "model.add(Dense(128, activation='ReLU', kernel_initializer=tf.keras.initializers.GlorotNormal(), input_shape=(flattened_dim,)))\n",
        "model.add(Dense(128, activation='ReLU', kernel_initializer=tf.keras.initializers.GlorotNormal()))\n",
        "model.add(Dense(nb_classes, activation='softmax'))\n",
        "\n",
        "# loss function and optimizer\n",
        "model.compile(loss='categorical_crossentropy', optimizer='adam', metrics=['accuracy'])"
      ],
      "metadata": {
        "id": "YjHAAh-wGu9O"
      },
      "execution_count": 26,
      "outputs": []
    },
    {
      "cell_type": "code",
      "source": [
        "# training\n",
        "network_history = model.fit(X_train, Y_train,\n",
        "                            validation_data=(X_valid,Y_valid),\n",
        "                            batch_size=128,\n",
        "                            epochs=40,\n",
        "                            verbose=1)"
      ],
      "metadata": {
        "id": "rarwKM1wGxMz",
        "colab": {
          "base_uri": "https://localhost:8080/"
        },
        "outputId": "ae3312b8-3220-422e-aa44-858d652e358a"
      },
      "execution_count": 27,
      "outputs": [
        {
          "output_type": "stream",
          "name": "stdout",
          "text": [
            "Epoch 1/40\n",
            "313/313 [==============================] - 6s 16ms/step - loss: 1.7556 - accuracy: 0.3887 - val_loss: 1.6282 - val_accuracy: 0.4314\n",
            "Epoch 2/40\n",
            "313/313 [==============================] - 5s 17ms/step - loss: 1.5121 - accuracy: 0.4699 - val_loss: 1.5701 - val_accuracy: 0.4547\n",
            "Epoch 3/40\n",
            "313/313 [==============================] - 4s 14ms/step - loss: 1.4008 - accuracy: 0.5076 - val_loss: 1.5310 - val_accuracy: 0.4735\n",
            "Epoch 4/40\n",
            "313/313 [==============================] - 5s 17ms/step - loss: 1.3169 - accuracy: 0.5358 - val_loss: 1.4903 - val_accuracy: 0.4860\n",
            "Epoch 5/40\n",
            "313/313 [==============================] - 4s 14ms/step - loss: 1.2492 - accuracy: 0.5613 - val_loss: 1.5066 - val_accuracy: 0.4882\n",
            "Epoch 6/40\n",
            "313/313 [==============================] - 4s 11ms/step - loss: 1.1902 - accuracy: 0.5808 - val_loss: 1.5068 - val_accuracy: 0.4884\n",
            "Epoch 7/40\n",
            "313/313 [==============================] - 4s 14ms/step - loss: 1.1332 - accuracy: 0.6049 - val_loss: 1.4927 - val_accuracy: 0.4930\n",
            "Epoch 8/40\n",
            "313/313 [==============================] - 4s 13ms/step - loss: 1.0857 - accuracy: 0.6187 - val_loss: 1.5048 - val_accuracy: 0.4934\n",
            "Epoch 9/40\n",
            "313/313 [==============================] - 4s 13ms/step - loss: 1.0355 - accuracy: 0.6326 - val_loss: 1.5251 - val_accuracy: 0.4913\n",
            "Epoch 10/40\n",
            "313/313 [==============================] - 4s 14ms/step - loss: 0.9879 - accuracy: 0.6542 - val_loss: 1.5652 - val_accuracy: 0.4964\n",
            "Epoch 11/40\n",
            "313/313 [==============================] - 4s 12ms/step - loss: 0.9483 - accuracy: 0.6660 - val_loss: 1.5856 - val_accuracy: 0.4957\n",
            "Epoch 12/40\n",
            "313/313 [==============================] - 3s 11ms/step - loss: 0.8999 - accuracy: 0.6841 - val_loss: 1.6270 - val_accuracy: 0.4974\n",
            "Epoch 13/40\n",
            "313/313 [==============================] - 4s 13ms/step - loss: 0.8591 - accuracy: 0.6985 - val_loss: 1.6934 - val_accuracy: 0.4825\n",
            "Epoch 14/40\n",
            "313/313 [==============================] - 4s 13ms/step - loss: 0.8288 - accuracy: 0.7078 - val_loss: 1.6883 - val_accuracy: 0.5015\n",
            "Epoch 15/40\n",
            "313/313 [==============================] - 3s 11ms/step - loss: 0.7925 - accuracy: 0.7222 - val_loss: 1.7272 - val_accuracy: 0.4973\n",
            "Epoch 16/40\n",
            "313/313 [==============================] - 4s 11ms/step - loss: 0.7538 - accuracy: 0.7340 - val_loss: 1.8178 - val_accuracy: 0.4821\n",
            "Epoch 17/40\n",
            "313/313 [==============================] - 5s 15ms/step - loss: 0.7212 - accuracy: 0.7460 - val_loss: 1.8417 - val_accuracy: 0.4843\n",
            "Epoch 18/40\n",
            "313/313 [==============================] - 4s 12ms/step - loss: 0.6863 - accuracy: 0.7588 - val_loss: 1.8853 - val_accuracy: 0.4866\n",
            "Epoch 19/40\n",
            "313/313 [==============================] - 4s 12ms/step - loss: 0.6624 - accuracy: 0.7656 - val_loss: 1.9391 - val_accuracy: 0.4903\n",
            "Epoch 20/40\n",
            "313/313 [==============================] - 5s 16ms/step - loss: 0.6265 - accuracy: 0.7799 - val_loss: 2.0133 - val_accuracy: 0.4849\n",
            "Epoch 21/40\n",
            "313/313 [==============================] - 4s 14ms/step - loss: 0.6138 - accuracy: 0.7840 - val_loss: 2.0333 - val_accuracy: 0.4847\n",
            "Epoch 22/40\n",
            "313/313 [==============================] - 4s 14ms/step - loss: 0.5755 - accuracy: 0.7980 - val_loss: 2.1198 - val_accuracy: 0.4896\n",
            "Epoch 23/40\n",
            "313/313 [==============================] - 5s 16ms/step - loss: 0.5524 - accuracy: 0.8061 - val_loss: 2.1470 - val_accuracy: 0.4855\n",
            "Epoch 24/40\n",
            "313/313 [==============================] - 4s 12ms/step - loss: 0.5301 - accuracy: 0.8148 - val_loss: 2.2314 - val_accuracy: 0.4818\n",
            "Epoch 25/40\n",
            "313/313 [==============================] - 3s 11ms/step - loss: 0.5068 - accuracy: 0.8225 - val_loss: 2.2721 - val_accuracy: 0.4847\n",
            "Epoch 26/40\n",
            "313/313 [==============================] - 4s 14ms/step - loss: 0.4934 - accuracy: 0.8257 - val_loss: 2.3450 - val_accuracy: 0.4829\n",
            "Epoch 27/40\n",
            "313/313 [==============================] - 4s 13ms/step - loss: 0.4674 - accuracy: 0.8359 - val_loss: 2.3680 - val_accuracy: 0.4786\n",
            "Epoch 28/40\n",
            "313/313 [==============================] - 4s 11ms/step - loss: 0.4553 - accuracy: 0.8415 - val_loss: 2.4860 - val_accuracy: 0.4762\n",
            "Epoch 29/40\n",
            "313/313 [==============================] - 5s 16ms/step - loss: 0.4388 - accuracy: 0.8469 - val_loss: 2.5248 - val_accuracy: 0.4789\n",
            "Epoch 30/40\n",
            "313/313 [==============================] - 4s 13ms/step - loss: 0.4108 - accuracy: 0.8560 - val_loss: 2.6250 - val_accuracy: 0.4766\n",
            "Epoch 31/40\n",
            "313/313 [==============================] - 4s 13ms/step - loss: 0.3993 - accuracy: 0.8601 - val_loss: 2.6693 - val_accuracy: 0.4773\n",
            "Epoch 32/40\n",
            "313/313 [==============================] - 5s 15ms/step - loss: 0.3983 - accuracy: 0.8607 - val_loss: 2.7167 - val_accuracy: 0.4787\n",
            "Epoch 33/40\n",
            "313/313 [==============================] - 4s 11ms/step - loss: 0.3701 - accuracy: 0.8687 - val_loss: 2.8228 - val_accuracy: 0.4719\n",
            "Epoch 34/40\n",
            "313/313 [==============================] - 4s 11ms/step - loss: 0.3489 - accuracy: 0.8769 - val_loss: 2.8922 - val_accuracy: 0.4731\n",
            "Epoch 35/40\n",
            "313/313 [==============================] - 5s 16ms/step - loss: 0.3604 - accuracy: 0.8750 - val_loss: 2.9910 - val_accuracy: 0.4799\n",
            "Epoch 36/40\n",
            "313/313 [==============================] - 4s 13ms/step - loss: 0.3384 - accuracy: 0.8791 - val_loss: 3.0105 - val_accuracy: 0.4768\n",
            "Epoch 37/40\n",
            "313/313 [==============================] - 3s 11ms/step - loss: 0.3275 - accuracy: 0.8848 - val_loss: 3.0403 - val_accuracy: 0.4752\n",
            "Epoch 38/40\n",
            "313/313 [==============================] - 4s 14ms/step - loss: 0.3084 - accuracy: 0.8922 - val_loss: 3.2667 - val_accuracy: 0.4731\n",
            "Epoch 39/40\n",
            "313/313 [==============================] - 4s 14ms/step - loss: 0.2962 - accuracy: 0.8955 - val_loss: 3.1451 - val_accuracy: 0.4755\n",
            "Epoch 40/40\n",
            "313/313 [==============================] - 4s 12ms/step - loss: 0.2927 - accuracy: 0.8971 - val_loss: 3.2844 - val_accuracy: 0.4689\n"
          ]
        }
      ]
    },
    {
      "cell_type": "markdown",
      "source": [
        "# 2.3. Exercise\n",
        "Based on the modifications above, and by any further modifications (e.g. more layers, less layers, more neurons/layer, etc.) to the model design, find a combination that is able to achieve **validation accuracy, that is higher than 53%**.\n"
      ],
      "metadata": {
        "id": "j1tGVPdD-pp3"
      }
    },
    {
      "cell_type": "code",
      "source": [
        "es = keras.callbacks.EarlyStopping(\n",
        "    monitor = 'val_accuracy',\n",
        "    patience = 5,\n",
        "    min_delta = 0.001,\n",
        "    restore_best_weights = True\n",
        ")"
      ],
      "metadata": {
        "id": "5dBQxJHIHrbd"
      },
      "execution_count": 28,
      "outputs": []
    },
    {
      "cell_type": "code",
      "source": [
        "# model definition\n",
        "model = Sequential()\n",
        "model.add(Dense(128, activation='ReLU', kernel_initializer=tf.keras.initializers.LecunUniform(), input_shape=(flattened_dim,)))\n",
        "model.add(Dropout(0.2, input_shape = (flattened_dim,)))\n",
        "model.add(Dense(128, activation='ReLU', kernel_initializer=tf.keras.initializers.LecunUniform()))\n",
        "model.add(Dense(nb_classes, activation='softmax'))\n",
        "\n",
        "# loss function and optimizer\n",
        "model.compile(loss='categorical_crossentropy', optimizer='adam', metrics=['accuracy'])"
      ],
      "metadata": {
        "id": "PuxHOqLt-3Nd"
      },
      "execution_count": 35,
      "outputs": []
    },
    {
      "cell_type": "code",
      "source": [
        "# training\n",
        "network_history = model.fit(X_train, Y_train,\n",
        "                            validation_data=(X_valid,Y_valid),\n",
        "                            batch_size=128,\n",
        "                            epochs=40,\n",
        "                            verbose=1,\n",
        "                            callbacks=[es])"
      ],
      "metadata": {
        "id": "u8tFNCNVHyt9",
        "colab": {
          "base_uri": "https://localhost:8080/"
        },
        "outputId": "606d0c41-0068-49fd-9ab3-dda90c17ae1c"
      },
      "execution_count": 36,
      "outputs": [
        {
          "output_type": "stream",
          "name": "stdout",
          "text": [
            "Epoch 1/40\n",
            "313/313 [==============================] - 8s 21ms/step - loss: 1.8583 - accuracy: 0.3521 - val_loss: 1.6533 - val_accuracy: 0.4233\n",
            "Epoch 2/40\n",
            "313/313 [==============================] - 5s 17ms/step - loss: 1.6335 - accuracy: 0.4238 - val_loss: 1.5631 - val_accuracy: 0.4518\n",
            "Epoch 3/40\n",
            "313/313 [==============================] - 7s 22ms/step - loss: 1.5423 - accuracy: 0.4558 - val_loss: 1.5132 - val_accuracy: 0.4705\n",
            "Epoch 4/40\n",
            "313/313 [==============================] - 6s 20ms/step - loss: 1.4820 - accuracy: 0.4776 - val_loss: 1.4795 - val_accuracy: 0.4802\n",
            "Epoch 5/40\n",
            "313/313 [==============================] - 6s 20ms/step - loss: 1.4353 - accuracy: 0.4913 - val_loss: 1.4559 - val_accuracy: 0.4895\n",
            "Epoch 6/40\n",
            "313/313 [==============================] - 5s 16ms/step - loss: 1.3960 - accuracy: 0.5075 - val_loss: 1.4349 - val_accuracy: 0.4961\n",
            "Epoch 7/40\n",
            "313/313 [==============================] - 6s 20ms/step - loss: 1.3613 - accuracy: 0.5186 - val_loss: 1.4391 - val_accuracy: 0.5040\n",
            "Epoch 8/40\n",
            "313/313 [==============================] - 5s 16ms/step - loss: 1.3355 - accuracy: 0.5278 - val_loss: 1.4130 - val_accuracy: 0.5072\n",
            "Epoch 9/40\n",
            "313/313 [==============================] - 5s 16ms/step - loss: 1.3103 - accuracy: 0.5368 - val_loss: 1.4119 - val_accuracy: 0.5070\n",
            "Epoch 10/40\n",
            "313/313 [==============================] - 6s 18ms/step - loss: 1.2874 - accuracy: 0.5453 - val_loss: 1.4011 - val_accuracy: 0.5161\n",
            "Epoch 11/40\n",
            "313/313 [==============================] - 5s 16ms/step - loss: 1.2656 - accuracy: 0.5515 - val_loss: 1.3816 - val_accuracy: 0.5243\n",
            "Epoch 12/40\n",
            "313/313 [==============================] - 6s 19ms/step - loss: 1.2443 - accuracy: 0.5605 - val_loss: 1.3892 - val_accuracy: 0.5204\n",
            "Epoch 13/40\n",
            "313/313 [==============================] - 5s 16ms/step - loss: 1.2273 - accuracy: 0.5663 - val_loss: 1.3884 - val_accuracy: 0.5207\n",
            "Epoch 14/40\n",
            "313/313 [==============================] - 6s 18ms/step - loss: 1.2068 - accuracy: 0.5757 - val_loss: 1.3958 - val_accuracy: 0.5190\n",
            "Epoch 15/40\n",
            "313/313 [==============================] - 5s 17ms/step - loss: 1.1901 - accuracy: 0.5756 - val_loss: 1.3783 - val_accuracy: 0.5253\n",
            "Epoch 16/40\n",
            "313/313 [==============================] - 5s 15ms/step - loss: 1.1716 - accuracy: 0.5860 - val_loss: 1.3775 - val_accuracy: 0.5315\n",
            "Epoch 17/40\n",
            "313/313 [==============================] - 6s 18ms/step - loss: 1.1605 - accuracy: 0.5893 - val_loss: 1.3904 - val_accuracy: 0.5271\n",
            "Epoch 18/40\n",
            "313/313 [==============================] - 5s 15ms/step - loss: 1.1431 - accuracy: 0.5945 - val_loss: 1.3993 - val_accuracy: 0.5183\n",
            "Epoch 19/40\n",
            "313/313 [==============================] - 6s 18ms/step - loss: 1.1361 - accuracy: 0.5965 - val_loss: 1.3868 - val_accuracy: 0.5257\n",
            "Epoch 20/40\n",
            "313/313 [==============================] - 6s 18ms/step - loss: 1.1186 - accuracy: 0.6044 - val_loss: 1.3819 - val_accuracy: 0.5316\n",
            "Epoch 21/40\n",
            "313/313 [==============================] - 5s 16ms/step - loss: 1.1015 - accuracy: 0.6100 - val_loss: 1.3747 - val_accuracy: 0.5303\n"
          ]
        }
      ]
    },
    {
      "cell_type": "markdown",
      "source": [
        "# 3. Evaluation on test data and inference\n",
        "At this point, we will perform a basic evaluation and inference. With the model.evaluate function, the same metrics are calculated, that were used during training:"
      ],
      "metadata": {
        "id": "2FtKp-a2-A9m"
      }
    },
    {
      "cell_type": "code",
      "source": [
        "print(model.evaluate(X_test, Y_test))"
      ],
      "metadata": {
        "id": "I3_9wgDREUna",
        "colab": {
          "base_uri": "https://localhost:8080/"
        },
        "outputId": "7590dd09-87d7-4821-c7bb-02d146858381"
      },
      "execution_count": 37,
      "outputs": [
        {
          "output_type": "stream",
          "name": "stdout",
          "text": [
            "313/313 [==============================] - 1s 3ms/step - loss: 1.3534 - accuracy: 0.5248\n",
            "[1.3533796072006226, 0.5248000025749207]\n"
          ]
        }
      ]
    },
    {
      "cell_type": "markdown",
      "source": [
        "we would like to see similar values, as in the validation set. If those are close to each other, then the generalization ability of the model is good (in case of an independent test-set)."
      ],
      "metadata": {
        "id": "ECHguBFtGL7f"
      }
    },
    {
      "cell_type": "markdown",
      "source": [
        "## 3.1. Exercise\n",
        "Predict the class of the first 10 elements in the test set, and compare the predicted values with the actual, target values in the test set. Hints:\n",
        "* you can use [model.predict](https://www.activestate.com/resources/quick-reads/how-to-use-a-model-to-do-predictions-with-keras/) for prediction\n",
        "* from the output you can select the largest value with the [argmax() function of Numpy](https://stackoverflow.com/questions/62358642/convert-one-hot-encoding-back-to-number-label). As there are multiple values, you have to call it with axis=1 parameter.\n",
        "* it is enought to compare the predictions and the targets by printing the values out and inspecting them."
      ],
      "metadata": {
        "id": "0Io4zYJeHjz6"
      }
    },
    {
      "cell_type": "code",
      "source": [
        "preds = model.predict(X_test[:10])\n",
        "preds_dense = np.argmax(preds, axis=1)\n",
        "print(preds_dense)"
      ],
      "metadata": {
        "id": "XEEyU7exILqF",
        "colab": {
          "base_uri": "https://localhost:8080/"
        },
        "outputId": "3ff4e87d-af2a-4ed0-a7cf-0281c4fca487"
      },
      "execution_count": 38,
      "outputs": [
        {
          "output_type": "stream",
          "name": "stdout",
          "text": [
            "1/1 [==============================] - 0s 100ms/step\n",
            "[3 1 8 4 6 6 1 6 7 1]\n"
          ]
        }
      ]
    },
    {
      "cell_type": "markdown",
      "source": [
        "Before comparision, you have to convert back the one-hot encoded target values the same way, as you converted the output of the neural network to class values with argmax() function."
      ],
      "metadata": {
        "id": "seZTEFI-I5cZ"
      }
    },
    {
      "cell_type": "code",
      "source": [
        "print(\"Target labels:\", np.argmax(Y_test[:10],axis=1))\n",
        "print(\"Predicted labels:\", preds_dense)"
      ],
      "metadata": {
        "id": "PHLvoMuIIkJ6",
        "colab": {
          "base_uri": "https://localhost:8080/"
        },
        "outputId": "39207421-022e-4b52-8e57-971c8aef2559"
      },
      "execution_count": 39,
      "outputs": [
        {
          "output_type": "stream",
          "name": "stdout",
          "text": [
            "Target labels: [3 8 8 0 6 6 1 6 3 1]\n",
            "Predicted labels: [3 1 8 4 6 6 1 6 7 1]\n"
          ]
        }
      ]
    }
  ]
}